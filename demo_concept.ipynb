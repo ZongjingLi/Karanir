{
 "cells": [
  {
   "cell_type": "code",
   "execution_count": 1,
   "metadata": {},
   "outputs": [
    {
     "name": "stderr",
     "output_type": "stream",
     "text": [
      "/Users/melkor/miniforge3/envs/Melkor/lib/python3.9/site-packages/tqdm/auto.py:21: TqdmWarning: IProgress not found. Please update jupyter and ipywidgets. See https://ipywidgets.readthedocs.io/en/stable/user_install.html\n",
      "  from .autonotebook import tqdm as notebook_tqdm\n"
     ]
    },
    {
     "name": "stdout",
     "output_type": "stream",
     "text": [
      "[Taichi] version 1.7.0, llvm 15.0.7, commit 7b58b0ff, osx, python 3.9.13\n"
     ]
    },
    {
     "name": "stderr",
     "output_type": "stream",
     "text": [
      "[I 04/30/24 18:17:17.148 967436] [shell.py:_shell_pop_print@23] Graphical python shell detected, using wrapped sys.stdout\n"
     ]
    }
   ],
   "source": [
    "\"\"\"Load the primitive model and the DSL parse\"\"\"\n",
    "from karanir.thanagor.model import *\n",
    "from karanir.thanagor import KaranirThanagor, config"
   ]
  },
  {
   "cell_type": "code",
   "execution_count": 2,
   "metadata": {},
   "outputs": [
    {
     "name": "stdout",
     "output_type": "stream",
     "text": [
      "domain:\n",
      "  scourge_demo\n",
      "types:\n",
      "  object - vector[float,['100']]\n",
      "  position - vector[float,['2']]\n",
      "  color - vector[float,['64']]\n",
      "  category - object\n",
      "predicates:\n",
      "  color:['?x-object'] -> vector[float,['64']]\n",
      "  is-red:['?x-object'] -> boolean\n",
      "  is-blue:['?x-object'] -> boolean\n",
      "  is-ship:['?x-object'] -> boolean\n",
      "  is-house:['?x-object'] -> boolean\n",
      "actions:\n",
      " name:pick-up\n",
      "  params:['?x-object', '?y']\n",
      "  precond:(is-red (color ?x))\n",
      "  effect:(if (is-blue ?y) (and (assign (is-blue ?x) 1.0) (assign (is-red ?y) 0.0)))\n",
      "{'is-green-f': None}\n"
     ]
    }
   ],
   "source": [
    "\"\"\"Define the domain specification for the demo test case\"\"\"\n",
    "from karanir.thanagor.domain import load_domain_string\n",
    "demo_domain_string = f\"\"\"\n",
    "(domain scourge_demo)\n",
    "(:type\n",
    "    object - vector[float,100]\n",
    "    position - vector[float,2]\n",
    "    color - vector[float, 64]\n",
    "    category\n",
    ")\n",
    "(:predicate\n",
    "    color ?x-object -> vector[float,64]\n",
    "    is-red ?x-object -> boolean\n",
    "    is-blue ?x-object -> boolean\n",
    "    is-ship ?x-object -> boolean\n",
    "    is-house ?x-object -> boolean\n",
    ")\n",
    "(:derived\n",
    "    is-green ?x-color expr: (??f ?x)\n",
    ")\n",
    "(:constraint\n",
    "    (color: is-red is-blue)\n",
    "    (category: is-ship is-house)\n",
    ")\n",
    "(:action\n",
    "    (\n",
    "        name:pick-up\n",
    "        parameters:?x-object ?y\n",
    "        precondition: (is-red (color ?x))\n",
    "        effect: (\n",
    "            if (is-blue ?y)\n",
    "                (and\n",
    "                (assign (is-blue ?x) 1.0 )\n",
    "                (assign (is-red ?y) 0.0)\n",
    "                )\n",
    "            )\n",
    "    )\n",
    ")\n",
    "\"\"\"\n",
    "domain = load_domain_string(demo_domain_string)\n",
    "domain.print_summary()"
   ]
  },
  {
   "cell_type": "code",
   "execution_count": 3,
   "metadata": {},
   "outputs": [],
   "source": [
    "\"\"\"Create the base model, executor and more\"\"\"\n",
    "config.conept_dim = 100\n",
    "config.perception_model_name = \"SetNet\"\n",
    "config.channel_dim = 2\n",
    "model = KaranirThanagor(domain, config)\n",
    "#model.print_summary()\n",
    "\n",
    "from karanir.thanagor.dsl.vqa_primitives import *\n"
   ]
  },
  {
   "cell_type": "code",
   "execution_count": 4,
   "metadata": {},
   "outputs": [
    {
     "name": "stdout",
     "output_type": "stream",
     "text": [
      "loss:102.864 acc:0.5990853658536586[393/656]\n",
      "0.5990853658536586\n",
      "epoch:118 loss:0.021 acc:1.0[16/16]6]"
     ]
    },
    {
     "ename": "KeyboardInterrupt",
     "evalue": "",
     "output_type": "error",
     "traceback": [
      "\u001b[0;31m---------------------------------------------------------------------------\u001b[0m",
      "\u001b[0;31mKeyboardInterrupt\u001b[0m                         Traceback (most recent call last)",
      "Input \u001b[0;32mIn [4]\u001b[0m, in \u001b[0;36m<cell line: 13>\u001b[0;34m()\u001b[0m\n\u001b[1;32m     11\u001b[0m \u001b[38;5;66;03m#print(demo_scenes)\u001b[39;00m\n\u001b[1;32m     12\u001b[0m \u001b[38;5;28mprint\u001b[39m(evaluate_scenes(test_scenes, model))\n\u001b[0;32m---> 13\u001b[0m \u001b[43mfit_scenes\u001b[49m\u001b[43m(\u001b[49m\u001b[43mtrain_scenes\u001b[49m\u001b[43m,\u001b[49m\u001b[43m \u001b[49m\u001b[43mmodel\u001b[49m\u001b[43m,\u001b[49m\u001b[43m \u001b[49m\u001b[43mepochs\u001b[49m\u001b[43m \u001b[49m\u001b[38;5;241;43m=\u001b[39;49m\u001b[43m \u001b[49m\u001b[38;5;241;43m500\u001b[39;49m\u001b[43m,\u001b[49m\u001b[43m \u001b[49m\u001b[43mlr\u001b[49m\u001b[43m \u001b[49m\u001b[38;5;241;43m=\u001b[39;49m\u001b[43m \u001b[49m\u001b[38;5;241;43m1e-3\u001b[39;49m\u001b[43m,\u001b[49m\u001b[43m \u001b[49m\u001b[43mbatch_size\u001b[49m\u001b[43m \u001b[49m\u001b[38;5;241;43m=\u001b[39;49m\u001b[43m \u001b[49m\u001b[38;5;241;43m4\u001b[39;49m\u001b[43m)\u001b[49m\n\u001b[1;32m     14\u001b[0m \u001b[38;5;28mprint\u001b[39m(evaluate_scenes(test_scenes, model))\n",
      "File \u001b[0;32m~/Documents/GitHub/Karanir/karanir/thanagor/model.py:221\u001b[0m, in \u001b[0;36mfit_scenes\u001b[0;34m(dataset, model, epochs, batch_size, lr, verbose)\u001b[0m\n\u001b[1;32m    219\u001b[0m \u001b[38;5;250m\u001b[39m\u001b[38;5;124;03m\"\"\"Clear gradients and perform optimization\"\"\"\u001b[39;00m\n\u001b[1;32m    220\u001b[0m optimizer\u001b[38;5;241m.\u001b[39mzero_grad()\n\u001b[0;32m--> 221\u001b[0m \u001b[43mloss\u001b[49m\u001b[38;5;241;43m.\u001b[39;49m\u001b[43mbackward\u001b[49m\u001b[43m(\u001b[49m\u001b[43m)\u001b[49m\n\u001b[1;32m    222\u001b[0m optimizer\u001b[38;5;241m.\u001b[39mstep()\n\u001b[1;32m    223\u001b[0m epoch_loss \u001b[38;5;241m+\u001b[39m\u001b[38;5;241m=\u001b[39m loss\u001b[38;5;241m.\u001b[39mdetach()\u001b[38;5;241m.\u001b[39mnumpy()\n",
      "File \u001b[0;32m~/miniforge3/envs/Melkor/lib/python3.9/site-packages/torch/_tensor.py:488\u001b[0m, in \u001b[0;36mTensor.backward\u001b[0;34m(self, gradient, retain_graph, create_graph, inputs)\u001b[0m\n\u001b[1;32m    478\u001b[0m \u001b[38;5;28;01mif\u001b[39;00m has_torch_function_unary(\u001b[38;5;28mself\u001b[39m):\n\u001b[1;32m    479\u001b[0m     \u001b[38;5;28;01mreturn\u001b[39;00m handle_torch_function(\n\u001b[1;32m    480\u001b[0m         Tensor\u001b[38;5;241m.\u001b[39mbackward,\n\u001b[1;32m    481\u001b[0m         (\u001b[38;5;28mself\u001b[39m,),\n\u001b[0;32m   (...)\u001b[0m\n\u001b[1;32m    486\u001b[0m         inputs\u001b[38;5;241m=\u001b[39minputs,\n\u001b[1;32m    487\u001b[0m     )\n\u001b[0;32m--> 488\u001b[0m \u001b[43mtorch\u001b[49m\u001b[38;5;241;43m.\u001b[39;49m\u001b[43mautograd\u001b[49m\u001b[38;5;241;43m.\u001b[39;49m\u001b[43mbackward\u001b[49m\u001b[43m(\u001b[49m\n\u001b[1;32m    489\u001b[0m \u001b[43m    \u001b[49m\u001b[38;5;28;43mself\u001b[39;49m\u001b[43m,\u001b[49m\u001b[43m \u001b[49m\u001b[43mgradient\u001b[49m\u001b[43m,\u001b[49m\u001b[43m \u001b[49m\u001b[43mretain_graph\u001b[49m\u001b[43m,\u001b[49m\u001b[43m \u001b[49m\u001b[43mcreate_graph\u001b[49m\u001b[43m,\u001b[49m\u001b[43m \u001b[49m\u001b[43minputs\u001b[49m\u001b[38;5;241;43m=\u001b[39;49m\u001b[43minputs\u001b[49m\n\u001b[1;32m    490\u001b[0m \u001b[43m\u001b[49m\u001b[43m)\u001b[49m\n",
      "File \u001b[0;32m~/miniforge3/envs/Melkor/lib/python3.9/site-packages/torch/autograd/__init__.py:197\u001b[0m, in \u001b[0;36mbackward\u001b[0;34m(tensors, grad_tensors, retain_graph, create_graph, grad_variables, inputs)\u001b[0m\n\u001b[1;32m    192\u001b[0m     retain_graph \u001b[38;5;241m=\u001b[39m create_graph\n\u001b[1;32m    194\u001b[0m \u001b[38;5;66;03m# The reason we repeat same the comment below is that\u001b[39;00m\n\u001b[1;32m    195\u001b[0m \u001b[38;5;66;03m# some Python versions print out the first line of a multi-line function\u001b[39;00m\n\u001b[1;32m    196\u001b[0m \u001b[38;5;66;03m# calls in the traceback and some print out the last line\u001b[39;00m\n\u001b[0;32m--> 197\u001b[0m \u001b[43mVariable\u001b[49m\u001b[38;5;241;43m.\u001b[39;49m\u001b[43m_execution_engine\u001b[49m\u001b[38;5;241;43m.\u001b[39;49m\u001b[43mrun_backward\u001b[49m\u001b[43m(\u001b[49m\u001b[43m  \u001b[49m\u001b[38;5;66;43;03m# Calls into the C++ engine to run the backward pass\u001b[39;49;00m\n\u001b[1;32m    198\u001b[0m \u001b[43m    \u001b[49m\u001b[43mtensors\u001b[49m\u001b[43m,\u001b[49m\u001b[43m \u001b[49m\u001b[43mgrad_tensors_\u001b[49m\u001b[43m,\u001b[49m\u001b[43m \u001b[49m\u001b[43mretain_graph\u001b[49m\u001b[43m,\u001b[49m\u001b[43m \u001b[49m\u001b[43mcreate_graph\u001b[49m\u001b[43m,\u001b[49m\u001b[43m \u001b[49m\u001b[43minputs\u001b[49m\u001b[43m,\u001b[49m\n\u001b[1;32m    199\u001b[0m \u001b[43m    \u001b[49m\u001b[43mallow_unreachable\u001b[49m\u001b[38;5;241;43m=\u001b[39;49m\u001b[38;5;28;43;01mTrue\u001b[39;49;00m\u001b[43m,\u001b[49m\u001b[43m \u001b[49m\u001b[43maccumulate_grad\u001b[49m\u001b[38;5;241;43m=\u001b[39;49m\u001b[38;5;28;43;01mTrue\u001b[39;49;00m\u001b[43m)\u001b[49m\n",
      "\u001b[0;31mKeyboardInterrupt\u001b[0m: "
     ]
    }
   ],
   "source": [
    "from karanir.thanagor.model import fit_scenes, generate_grounding, generate_scenes\n",
    "concept_dim = config.concept_dim\n",
    "\n",
    "\n",
    "train_scenes = generate_scenes(domain, 32)\n",
    "train_scenes = generate_grounding(domain, train_scenes)\n",
    "\n",
    "test_scenes = generate_scenes(domain, 164)\n",
    "test_scenes = generate_grounding(domain, test_scenes)\n",
    "\n",
    "#print(demo_scenes)\n",
    "print(evaluate_scenes(test_scenes, model))\n",
    "fit_scenes(train_scenes, model, epochs = 500, lr = 1e-3, batch_size = 4)\n",
    "print(evaluate_scenes(test_scenes, model))\n"
   ]
  },
  {
   "cell_type": "code",
   "execution_count": null,
   "metadata": {},
   "outputs": [
    {
     "data": {
      "text/plain": [
       "\"\\nhistory_prev = []\\nhistory_post = []\\nimport tqdm\\n\\nfor i in tqdm.tqdm(range(1,8 + 1,1)):\\n    train_scenes = generate_scenes(domain, i)\\n    train_scenes = generate_grounding(domain, train_scenes)\\n\\n    test_scenes = generate_scenes(domain, 164)\\n    test_scenes = generate_grounding(domain, test_scenes)\\n    '''Generate samples'''\\n\\n    model = KaranirThanagor(domain, config)\\n    prev = evaluate_scenes(test_scenes, model, False)\\n    fit_scenes(train_scenes, model, epochs = 1000, lr = 1e-3, batch_size = 4, verbose = False)\\n    post = evaluate_scenes(test_scenes, model, False)\\n    history_prev.append(prev)\\n    history_post.append(post)\\nimport matplotlib.pyplot as plt\\nplt.plot(history_prev)\\nplt.plot(history_post)\\nplt.show()\\n\""
      ]
     },
     "execution_count": 5,
     "metadata": {},
     "output_type": "execute_result"
    }
   ],
   "source": [
    "\"\"\"\n",
    "history_prev = []\n",
    "history_post = []\n",
    "import tqdm\n",
    "\n",
    "for i in tqdm.tqdm(range(1,8 + 1,1)):\n",
    "    train_scenes = generate_scenes(domain, i)\n",
    "    train_scenes = generate_grounding(domain, train_scenes)\n",
    "\n",
    "    test_scenes = generate_scenes(domain, 164)\n",
    "    test_scenes = generate_grounding(domain, test_scenes)\n",
    "    '''Generate samples'''\n",
    "\n",
    "    model = KaranirThanagor(domain, config)\n",
    "    prev = evaluate_scenes(test_scenes, model, False)\n",
    "    fit_scenes(train_scenes, model, epochs = 1000, lr = 1e-3, batch_size = 4, verbose = False)\n",
    "    post = evaluate_scenes(test_scenes, model, False)\n",
    "    history_prev.append(prev)\n",
    "    history_post.append(post)\n",
    "import matplotlib.pyplot as plt\n",
    "plt.plot(history_prev)\n",
    "plt.plot(history_post)\n",
    "plt.show()\n",
    "\"\"\""
   ]
  }
 ],
 "metadata": {
  "interpreter": {
   "hash": "a47e46093c771f9510c4aabf3710bfb1355e5f870a13f8c22092f45d4d23626d"
  },
  "kernelspec": {
   "display_name": "Python 3.9.13 ('Melkor')",
   "language": "python",
   "name": "python3"
  },
  "language_info": {
   "codemirror_mode": {
    "name": "ipython",
    "version": 3
   },
   "file_extension": ".py",
   "mimetype": "text/x-python",
   "name": "python",
   "nbconvert_exporter": "python",
   "pygments_lexer": "ipython3",
   "version": "3.9.13"
  },
  "orig_nbformat": 4
 },
 "nbformat": 4,
 "nbformat_minor": 2
}
