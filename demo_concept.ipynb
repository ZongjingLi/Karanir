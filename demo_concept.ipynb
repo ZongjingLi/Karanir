{
 "cells": [
  {
   "cell_type": "code",
   "execution_count": 1,
   "metadata": {},
   "outputs": [
    {
     "name": "stdout",
     "output_type": "stream",
     "text": [
      "[Taichi] version 1.7.0, llvm 15.0.7, commit 7b58b0ff, osx, python 3.9.13\n"
     ]
    },
    {
     "name": "stderr",
     "output_type": "stream",
     "text": [
      "[I 12/31/23 12:29:13.594 5268003] [shell.py:_shell_pop_print@23] Graphical python shell detected, using wrapped sys.stdout\n"
     ]
    }
   ],
   "source": [
    "\"\"\"Load the primitive model and the DSL parse\"\"\"\n",
    "from karanir.thanagor.model import *\n",
    "from karanir.thanagor import KaranirThanagor, config"
   ]
  },
  {
   "cell_type": "code",
   "execution_count": 2,
   "metadata": {},
   "outputs": [
    {
     "name": "stdout",
     "output_type": "stream",
     "text": [
      "domain:\n",
      "  scourge_demo\n",
      "types:\n",
      "  object - vector[float,['100']]\n",
      "  position - vector[float,['2']]\n",
      "  color - vector[float,['64']]\n",
      "  category - object\n",
      "predicates:\n",
      "  is-red:['?x-object'] -> boolean\n",
      "  is-blue:['?x-object'] -> boolean\n",
      "  is-ship:['?x-object'] -> boolean\n",
      "  is-house:['?x-object'] -> boolean\n",
      "actions:\n",
      " name:pick-up\n",
      "  params:['?x-object', '?y']\n",
      "  precond:(is-red (color ?x))\n",
      "  effect:(if (is-blue ?y) (and (assign (is-blue ?x) 1.0) (assign (is-red ?y) 0.0)))\n"
     ]
    }
   ],
   "source": [
    "\"\"\"Define the domain specification for the demo test case\"\"\"\n",
    "from karanir.thanagor.domain import load_domain_string\n",
    "demo_domain_string = f\"\"\"\n",
    "(domain scourge_demo)\n",
    "(:type\n",
    "    object - vector[float,100]\n",
    "    position - vector[float,2]\n",
    "    color - vector[float, 64]\n",
    "    category\n",
    ")\n",
    "(:predicate\n",
    "    is-red ?x-object -> boolean\n",
    "    is-blue ?x-object -> boolean\n",
    "    is-ship ?x-object -> boolean\n",
    "    is-house ?x-object -> boolean\n",
    ")\n",
    "(:constraint\n",
    "    (color: is-red is-blue)\n",
    "    (category: is-ship is-house)\n",
    ")\n",
    "(:action\n",
    "    (\n",
    "        name:pick-up\n",
    "        parameters:?x-object ?y\n",
    "        precondition: (is-red (color ?x))\n",
    "        effect: (\n",
    "            if (is-blue ?y)\n",
    "                (and\n",
    "                (assign (is-blue ?x) 1.0 )\n",
    "                (assign (is-red ?y) 0.0)\n",
    "                )\n",
    "            )\n",
    "    )\n",
    ")\n",
    "\"\"\"\n",
    "domain = load_domain_string(demo_domain_string)\n",
    "domain.print_summary()"
   ]
  },
  {
   "cell_type": "code",
   "execution_count": 3,
   "metadata": {},
   "outputs": [],
   "source": [
    "\"\"\"Create the base model, executor and more\"\"\"\n",
    "config.conept_dim = 100\n",
    "config.perception_model_name = \"SetNet\"\n",
    "config.channel_dim = 2\n",
    "model = KaranirThanagor(domain, config)\n",
    "#model.print_summary()\n",
    "\n",
    "from karanir.thanagor.dsl.vqa_primitives import *\n"
   ]
  },
  {
   "cell_type": "code",
   "execution_count": 4,
   "metadata": {},
   "outputs": [
    {
     "name": "stdout",
     "output_type": "stream",
     "text": [
      "loss:109.509 acc:0.5411585365853658[355/656]\n",
      "0.5411585365853658\n",
      "epoch:500 loss:0.000 acc:1.0[16/16]6]\n",
      "loss:0.19312 acc:1.0[656/656]\n",
      "1.0\n"
     ]
    }
   ],
   "source": [
    "from karanir.thanagor.model import fit_scenes, generate_grounding, generate_scenes\n",
    "concept_dim = config.concept_dim\n",
    "\n",
    "\n",
    "train_scenes = generate_scenes(domain, 32)\n",
    "train_scenes = generate_grounding(domain, train_scenes)\n",
    "\n",
    "test_scenes = generate_scenes(domain, 164)\n",
    "test_scenes = generate_grounding(domain, test_scenes)\n",
    "\n",
    "#print(demo_scenes)\n",
    "print(evaluate_scenes(test_scenes, model))\n",
    "fit_scenes(train_scenes, model, epochs = 500, lr = 1e-3, batch_size = 4)\n",
    "print(evaluate_scenes(test_scenes, model))\n"
   ]
  },
  {
   "cell_type": "code",
   "execution_count": 5,
   "metadata": {},
   "outputs": [
    {
     "data": {
      "text/plain": [
       "\"\\nhistory_prev = []\\nhistory_post = []\\nimport tqdm\\n\\nfor i in tqdm.tqdm(range(1,8 + 1,1)):\\n    train_scenes = generate_scenes(domain, i)\\n    train_scenes = generate_grounding(domain, train_scenes)\\n\\n    test_scenes = generate_scenes(domain, 164)\\n    test_scenes = generate_grounding(domain, test_scenes)\\n    '''Generate samples'''\\n\\n    model = KaranirThanagor(domain, config)\\n    prev = evaluate_scenes(test_scenes, model, False)\\n    fit_scenes(train_scenes, model, epochs = 1000, lr = 1e-3, batch_size = 4, verbose = False)\\n    post = evaluate_scenes(test_scenes, model, False)\\n    history_prev.append(prev)\\n    history_post.append(post)\\nimport matplotlib.pyplot as plt\\nplt.plot(history_prev)\\nplt.plot(history_post)\\nplt.show()\\n\""
      ]
     },
     "execution_count": 5,
     "metadata": {},
     "output_type": "execute_result"
    }
   ],
   "source": [
    "\"\"\"\n",
    "history_prev = []\n",
    "history_post = []\n",
    "import tqdm\n",
    "\n",
    "for i in tqdm.tqdm(range(1,8 + 1,1)):\n",
    "    train_scenes = generate_scenes(domain, i)\n",
    "    train_scenes = generate_grounding(domain, train_scenes)\n",
    "\n",
    "    test_scenes = generate_scenes(domain, 164)\n",
    "    test_scenes = generate_grounding(domain, test_scenes)\n",
    "    '''Generate samples'''\n",
    "\n",
    "    model = KaranirThanagor(domain, config)\n",
    "    prev = evaluate_scenes(test_scenes, model, False)\n",
    "    fit_scenes(train_scenes, model, epochs = 1000, lr = 1e-3, batch_size = 4, verbose = False)\n",
    "    post = evaluate_scenes(test_scenes, model, False)\n",
    "    history_prev.append(prev)\n",
    "    history_post.append(post)\n",
    "import matplotlib.pyplot as plt\n",
    "plt.plot(history_prev)\n",
    "plt.plot(history_post)\n",
    "plt.show()\n",
    "\"\"\""
   ]
  }
 ],
 "metadata": {
  "interpreter": {
   "hash": "a47e46093c771f9510c4aabf3710bfb1355e5f870a13f8c22092f45d4d23626d"
  },
  "kernelspec": {
   "display_name": "Python 3.9.13 ('Melkor')",
   "language": "python",
   "name": "python3"
  },
  "language_info": {
   "codemirror_mode": {
    "name": "ipython",
    "version": 3
   },
   "file_extension": ".py",
   "mimetype": "text/x-python",
   "name": "python",
   "nbconvert_exporter": "python",
   "pygments_lexer": "ipython3",
   "version": "3.9.13"
  },
  "orig_nbformat": 4
 },
 "nbformat": 4,
 "nbformat_minor": 2
}
