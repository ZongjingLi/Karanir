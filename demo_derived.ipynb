{
 "cells": [
  {
   "cell_type": "code",
   "execution_count": 1,
   "metadata": {},
   "outputs": [
    {
     "name": "stdout",
     "output_type": "stream",
     "text": [
      "[Taichi] version 1.7.0, llvm 15.0.7, commit 7b58b0ff, osx, python 3.9.13\n"
     ]
    },
    {
     "name": "stderr",
     "output_type": "stream",
     "text": [
      "[I 01/13/24 16:25:32.179 4263916] [shell.py:_shell_pop_print@23] Graphical python shell detected, using wrapped sys.stdout\n"
     ]
    }
   ],
   "source": [
    "\"\"\"Load the primitive model and the DSL parse\"\"\"\n",
    "from karanir.thanagor.model import *\n",
    "from karanir.thanagor import KaranirThanagor, config"
   ]
  },
  {
   "cell_type": "code",
   "execution_count": 2,
   "metadata": {},
   "outputs": [
    {
     "name": "stdout",
     "output_type": "stream",
     "text": [
      "domain:\n",
      "  scourge_demo\n",
      "types:\n",
      "  object - vector[float,['100']]\n",
      "  position - vector[float,['2']]\n",
      "  color - vector[float,['64']]\n",
      "  category - object\n",
      "predicates:\n",
      "  color:['?x-object'] -> vector[float,['100']]\n",
      "  shape:['?x-object'] -> vector[float,['100']]\n",
      "  is-red:['?x-object'] -> boolean\n",
      "  is-blue:['?x-object'] -> boolean\n",
      "  is-ship:['?x-object'] -> boolean\n",
      "  is-house:['?x-object'] -> boolean\n",
      "actions:\n",
      " name:pick-up\n",
      "  params:['?x-object', '?y']\n",
      "  precond:(is-red (color ?x))\n",
      "  effect:(if (is-blue ?y) (and (assign (is-blue ?x) 1.0) (assign (is-red ?y) 0.0)))\n",
      "{'is-green-f': None, 'is-good-f': None, 'is-good-g': None}\n"
     ]
    }
   ],
   "source": [
    "\"\"\"Define the domain specification for the demo test case\"\"\"\n",
    "from karanir.thanagor.domain import load_domain_string\n",
    "demo_domain_string = f\"\"\"\n",
    "(domain scourge_demo)\n",
    "(:type\n",
    "    object - vector[float,100]\n",
    "    position - vector[float,2]\n",
    "    color - vector[float, 64]\n",
    "    category\n",
    ")\n",
    "(:predicate\n",
    "    color ?x-object -> vector[float,100]\n",
    "    shape ?x-object -> vector[float,100]\n",
    "    is-red ?x-object -> boolean\n",
    "    is-blue ?x-object -> boolean\n",
    "    is-ship ?x-object -> boolean\n",
    "    is-house ?x-object -> boolean\n",
    ")\n",
    "(:derived\n",
    "    is-green ?x-color expr: (??f ?x)\n",
    "\n",
    "    is-good ?x ?y \n",
    "    expr:   (or (??f ?x) (??g ?x))\n",
    ")\n",
    "(:constraint\n",
    "    (color: is-red is-blue)\n",
    "    (category: is-ship is-house)\n",
    ")\n",
    "(:action\n",
    "    (\n",
    "        name:pick-up\n",
    "        parameters:?x-object ?y\n",
    "        precondition: (is-red (color ?x))\n",
    "        effect: (\n",
    "            if (is-blue ?y)\n",
    "                (and\n",
    "                (assign (is-blue ?x) 1.0 )\n",
    "                (assign (is-red ?y) 0.0)\n",
    "                )\n",
    "            )\n",
    "    )\n",
    ")\n",
    "\"\"\"\n",
    "domain = load_domain_string(demo_domain_string)\n",
    "domain.print_summary()"
   ]
  },
  {
   "cell_type": "code",
   "execution_count": 3,
   "metadata": {},
   "outputs": [
    {
     "name": "stdout",
     "output_type": "stream",
     "text": [
      "arity: 1\n",
      "color\n",
      "shape\n",
      "is-red\n",
      "is-blue\n",
      "is-ship\n",
      "is-house\n",
      "{1: [color, shape, is-red, is-blue, is-ship, is-house]}\n",
      "{'is-green': {'parameters': ['?x-color'], 'expr': '(is-green-f ?x)'}, 'is-good': {'parameters': ['?x', '?y'], 'expr': '(or (is-good-f ?x) (is-good-g ?x))'}}\n"
     ]
    }
   ],
   "source": [
    "from karanir.thanagor.knowledge.executor import CentralExecutor\n",
    "from karanir.thanagor.model import config, KaranirThanagor\n",
    "\n",
    "model = KaranirThanagor(domain, config)\n",
    "model.central_executor.auto_fillup()\n",
    "#model.print_summary()\n",
    "print(model.central_executor.predicates)\n",
    "print(model.central_executor.derived)"
   ]
  },
  {
   "cell_type": "code",
   "execution_count": 15,
   "metadata": {},
   "outputs": [
    {
     "name": "stdout",
     "output_type": "stream",
     "text": [
      "{'exists': exists, 'filter': filter, 'filter_expr()': filter_expr(), 'relate': relate, 'intersect': intersect, 'equal': equal, 'count': count, 'if': if, 'assign': assign, 'forall': forall, 'and': and, 'or': or, 'true': true, 'false': false, 'Pr': Pr, 'color': color, 'shape': shape, 'is-red': is-red, 'is-blue': is-blue, 'is-ship': is-ship, 'is-house': is-house, 'is-green-f': is-green-f, 'is-good-f': is-good-f, 'is-good-g': is-good-g, 'new_func': new_func}\n",
      "shape:[5, 7] max:1.52438223361969 min:-4.282702922821045\n",
      "shape:[5, 7] max:-0.4794377088546753 min:-4.314482688903809\n"
     ]
    }
   ],
   "source": [
    "from karanir.thanagor.program import Program\n",
    "from karanir.thanagor.dsl.vqa_primitives import Boolean\n",
    "from karanir.utils.tensor import stats_summary\n",
    "# [{'params': model.parameters()}]\n",
    "print(Primitive.GLOBALS)\n",
    "\n",
    "class newGetter(nn.Module):\n",
    "    def __init__(self):\n",
    "        super().__init__()\n",
    "        self.a = nn.Parameter(torch.tensor(1.0))\n",
    "\n",
    "class ShapeMapper(nn.Module):\n",
    "    def __init__(self):\n",
    "        super().__init__()\n",
    "        self.conv = nn.Conv2d(132,100,1,1)\n",
    "    def forward(self, x):\n",
    "        if len(x.shape) == 3: x = x.unsqueeze(0)\n",
    "        x = x.permute(0,3,1,2)\n",
    "        return self.conv(x).permute(0,2,3,1)[0]\n",
    "\n",
    "color_mapper = nn.Linear(132,100)\n",
    "shape_mapper = ShapeMapper()\n",
    "\n",
    "Primitive(\"new_func\",Boolean, newGetter())\n",
    "color = Primitive.GLOBALS[\"color\"]\n",
    "color.value = lambda x: {\"features\":color_mapper(x[\"features\"]), \"executor\":x[\"executor\"]}\n",
    "\n",
    "shape = Primitive.GLOBALS[\"shape\"]\n",
    "shape.value = lambda x:{\"features\":\n",
    "\n",
    "    shape_mapper(x[\"features\"]), \"executor\":x[\"executor\"]}\n",
    "\n",
    "def gather_parameters(model = None):\n",
    "    params = []\n",
    "    if model is not None: params.append({\"model_params\":model.parameters()})\n",
    "    for prim in Primitive.GLOBALS:\n",
    "        if isinstance(Primitive.GLOBALS[prim].value,nn.Module):\n",
    "            param = Primitive.GLOBALS[prim].value.parameters()\n",
    "            params.append({\"param\":param})\n",
    "    return params\n",
    "\n",
    "params = gather_parameters(model)\n",
    "\n",
    "features = torch.randn([5,7,132])\n",
    "end = torch.ones([5,7,1])\n",
    "context = {\n",
    "    \"features\":features,\n",
    "    \"end\":end,\n",
    "    \"executor\":model.central_executor}\n",
    "output = model.central_executor.evaluate(\"(Pr (color $0) is-red)\",{0:context})\n",
    "\n",
    "stats_summary(output[\"logits\"])\n",
    "\n",
    "output = model.central_executor.evaluate(\"(Pr (shape $0) is-house)\",{0:context})\n",
    "\n",
    "stats_summary(output[\"logits\"])\n"
   ]
  },
  {
   "cell_type": "code",
   "execution_count": null,
   "metadata": {},
   "outputs": [],
   "source": [
    "that is to say..."
   ]
  }
 ],
 "metadata": {
  "interpreter": {
   "hash": "a47e46093c771f9510c4aabf3710bfb1355e5f870a13f8c22092f45d4d23626d"
  },
  "kernelspec": {
   "display_name": "Python 3.9.13 ('Melkor')",
   "language": "python",
   "name": "python3"
  },
  "language_info": {
   "codemirror_mode": {
    "name": "ipython",
    "version": 3
   },
   "file_extension": ".py",
   "mimetype": "text/x-python",
   "name": "python",
   "nbconvert_exporter": "python",
   "pygments_lexer": "ipython3",
   "version": "3.9.13"
  },
  "orig_nbformat": 4
 },
 "nbformat": 4,
 "nbformat_minor": 2
}
