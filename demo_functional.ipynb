{
 "cells": [
  {
   "cell_type": "code",
   "execution_count": 1,
   "metadata": {},
   "outputs": [
    {
     "name": "stdout",
     "output_type": "stream",
     "text": [
      "[Taichi] version 1.7.0, llvm 15.0.7, commit 7b58b0ff, osx, python 3.9.13\n"
     ]
    },
    {
     "name": "stderr",
     "output_type": "stream",
     "text": [
      "[I 12/29/23 14:34:43.670 4911156] [shell.py:_shell_pop_print@23] Graphical python shell detected, using wrapped sys.stdout\n"
     ]
    }
   ],
   "source": [
    "\"\"\"Load the primitive model and the DSL parse\"\"\"\n",
    "from karanir.thanagor.model import *\n",
    "from karanir.thanagor import KaranirThanagor, config"
   ]
  },
  {
   "cell_type": "code",
   "execution_count": 2,
   "metadata": {},
   "outputs": [
    {
     "name": "stdout",
     "output_type": "stream",
     "text": [
      "domain:\n",
      "  scourge_demo\n",
      "types:\n",
      "  object - vector[float,['100']]\n",
      "  position - vector[float,['2']]\n",
      "  color - vector[float,['64']]\n",
      "  category - object\n",
      "predicates:\n",
      "  is-red:['?x-object'] -> boolean\n",
      "  is-blue:['?x-object'] -> boolean\n",
      "  is-ship:['?x-object'] -> boolean\n",
      "  is-house:['?x-object'] -> boolean\n",
      "actions:\n",
      " name:pick-up\n",
      "  params:['?x-object', '?y']\n",
      "  precond:(is-red ?x)\n",
      "  effect:(if (is-blue ?y) (assign (is-blue ?x) (true)) (assign (is-red ?y) (false)))\n"
     ]
    }
   ],
   "source": [
    "\"\"\"Define the domain specification for the demo test case\"\"\"\n",
    "from karanir.thanagor.domain import load_domain_string\n",
    "demo_domain_string = f\"\"\"\n",
    "(domain scourge_demo)\n",
    "(:type\n",
    "    object - vector[float,100]\n",
    "    position - vector[float,2]\n",
    "    color - vector[float, 64]\n",
    "    category\n",
    ")\n",
    "(:predicate\n",
    "    is-red ?x-object -> boolean\n",
    "    is-blue ?x-object -> boolean\n",
    "    is-ship ?x-object -> boolean\n",
    "    is-house ?x-object -> boolean\n",
    ")\n",
    "(:derived\n",
    "    (\n",
    "        is-good ?x\n",
    "        expr: ( or (is-red ?x) (is-house ?x))\n",
    "    )\n",
    "    (\n",
    "        is-cool ?x\n",
    "        expr: (or (is-good ?x) (is-blue ?x))\n",
    "    )\n",
    ")\n",
    "(:constraint\n",
    "    (color: is-red is-blue)\n",
    "    (category: is-ship is-house)\n",
    ")\n",
    "(:action\n",
    "    (\n",
    "        name:pick-up\n",
    "        parameters:?x-object ?y\n",
    "        precondition: (is-red ?x)\n",
    "        effect: (\n",
    "            if (is-blue ?y)\n",
    "                (assign (is-blue ?x) true)\n",
    "                (assign (is-red ?y) false)\n",
    "            )\n",
    "    )\n",
    ")\n",
    "\"\"\"\n",
    "domain = load_domain_string(demo_domain_string)\n",
    "domain.print_summary()"
   ]
  },
  {
   "cell_type": "code",
   "execution_count": 3,
   "metadata": {},
   "outputs": [],
   "source": [
    "model = KaranirThanagor(domain, config)"
   ]
  },
  {
   "cell_type": "code",
   "execution_count": 4,
   "metadata": {},
   "outputs": [
    {
     "name": "stdout",
     "output_type": "stream",
     "text": [
      "tensor([1.0353], grad_fn=<MaximumBackward0>)\n",
      "tensor([-0.1066], grad_fn=<MaximumBackward0>)\n",
      "tensor([-1.0353], grad_fn=<LogBackward0>) tensor([-0.1066], grad_fn=<LogBackward0>)\n",
      "tensor([1.0353], grad_fn=<LogBackward0>)\n",
      "{'end': tensor([-9.2102], grad_fn=<MinimumBackward0>)}\n"
     ]
    }
   ],
   "source": [
    "p = \"(is-cool ($0))\"\n",
    "\n",
    "obj_dim = config.object_dim\n",
    "context = {\n",
    "    \"end\": torch.ones([1]),\n",
    "    \"features\": torch.randn([1,obj_dim]),\n",
    "    \"executor\": model.central_executor\n",
    "}\n",
    "\n",
    "output = model.central_executor.evaluate(p, {0:context})\n",
    "\n",
    "print(output[\"end\"])\n",
    "\n",
    "o0 = model.central_executor.evaluate(\"(is-good $0)\", {0:context})\n",
    "print(o0[\"end\"])\n",
    "o1 = model.central_executor.evaluate(\"(is-red $0)\", {0:context})\n",
    "o2 = model.central_executor.evaluate(\"(is-house $0)\", {0:context})\n",
    "print(o1[\"end\"],o2[\"end\"])\n",
    "o3 = model.central_executor.evaluate(\"(is-blue $0)\", {0:context})\n",
    "print(o3[\"end\"])\n",
    "\n",
    "o3 = model.central_executor.evaluate(\"(and (is-house $0) false)\", {0:context})\n",
    "print(o3)"
   ]
  },
  {
   "cell_type": "code",
   "execution_count": 5,
   "metadata": {},
   "outputs": [
    {
     "name": "stdout",
     "output_type": "stream",
     "text": [
      "tensor([-9.2102,  0.0000,  9.2101])\n",
      "(is-red $0) tensor(0.6027, grad_fn=<SigmoidBackward0>)\n",
      "(if (is-blue $1) (assign (is-blue $0) (true)) (assign (is-red $1) (false)))\n",
      "tensor([1.8916], grad_fn=<AddBackward0>)\n"
     ]
    },
    {
     "ename": "TypeError",
     "evalue": "Assign() missing 1 required positional argument: 'y'",
     "output_type": "error",
     "traceback": [
      "\u001b[0;31m---------------------------------------------------------------------------\u001b[0m",
      "\u001b[0;31mTypeError\u001b[0m                                 Traceback (most recent call last)",
      "\u001b[1;32m/Users/melkor/Documents/GitHub/Karanir/demo_functional.ipynb Cell 5'\u001b[0m in \u001b[0;36m<cell line: 9>\u001b[0;34m()\u001b[0m\n\u001b[1;32m      <a href='vscode-notebook-cell:/Users/melkor/Documents/GitHub/Karanir/demo_functional.ipynb#ch0000004?line=1'>2</a>\u001b[0m context \u001b[39m=\u001b[39m {\n\u001b[1;32m      <a href='vscode-notebook-cell:/Users/melkor/Documents/GitHub/Karanir/demo_functional.ipynb#ch0000004?line=2'>3</a>\u001b[0m     \u001b[39m\"\u001b[39m\u001b[39mend\u001b[39m\u001b[39m\"\u001b[39m: logit(torch\u001b[39m.\u001b[39mtensor([\u001b[39m0.00\u001b[39m,\u001b[39m0.5\u001b[39m,\u001b[39m1.0\u001b[39m])),\n\u001b[1;32m      <a href='vscode-notebook-cell:/Users/melkor/Documents/GitHub/Karanir/demo_functional.ipynb#ch0000004?line=3'>4</a>\u001b[0m     \u001b[39m\"\u001b[39m\u001b[39mfeatures\u001b[39m\u001b[39m\"\u001b[39m: torch\u001b[39m.\u001b[39mrandn([\u001b[39m3\u001b[39m,obj_dim]),\n\u001b[1;32m      <a href='vscode-notebook-cell:/Users/melkor/Documents/GitHub/Karanir/demo_functional.ipynb#ch0000004?line=4'>5</a>\u001b[0m     \u001b[39m\"\u001b[39m\u001b[39mis-red\u001b[39m\u001b[39m\"\u001b[39m:logit(torch\u001b[39m.\u001b[39mtensor([\u001b[39m0.00\u001b[39m,\u001b[39m0.5\u001b[39m,\u001b[39m1.0\u001b[39m])),\n\u001b[1;32m      <a href='vscode-notebook-cell:/Users/melkor/Documents/GitHub/Karanir/demo_functional.ipynb#ch0000004?line=5'>6</a>\u001b[0m     \u001b[39m\"\u001b[39m\u001b[39mexecutor\u001b[39m\u001b[39m\"\u001b[39m: model\u001b[39m.\u001b[39mcentral_executor\n\u001b[1;32m      <a href='vscode-notebook-cell:/Users/melkor/Documents/GitHub/Karanir/demo_functional.ipynb#ch0000004?line=6'>7</a>\u001b[0m }\n\u001b[1;32m      <a href='vscode-notebook-cell:/Users/melkor/Documents/GitHub/Karanir/demo_functional.ipynb#ch0000004?line=7'>8</a>\u001b[0m \u001b[39mprint\u001b[39m(context[\u001b[39m\"\u001b[39m\u001b[39mis-red\u001b[39m\u001b[39m\"\u001b[39m])\n\u001b[0;32m----> <a href='vscode-notebook-cell:/Users/melkor/Documents/GitHub/Karanir/demo_functional.ipynb#ch0000004?line=8'>9</a>\u001b[0m model\u001b[39m.\u001b[39;49mcentral_executor\u001b[39m.\u001b[39;49mapply_action(\u001b[39m\"\u001b[39;49m\u001b[39mpick-up\u001b[39;49m\u001b[39m\"\u001b[39;49m, [\u001b[39m0\u001b[39;49m,\u001b[39m2\u001b[39;49m], context)\n\u001b[1;32m     <a href='vscode-notebook-cell:/Users/melkor/Documents/GitHub/Karanir/demo_functional.ipynb#ch0000004?line=10'>11</a>\u001b[0m \u001b[39mprint\u001b[39m(context[\u001b[39m\"\u001b[39m\u001b[39mis-red\u001b[39m\u001b[39m\"\u001b[39m])\n",
      "File \u001b[0;32m~/Documents/GitHub/Karanir/karanir/thanagor/knowledge/executor.py:178\u001b[0m, in \u001b[0;36mCentralExecutor.apply_action\u001b[0;34m(self, action_name, params, context)\u001b[0m\n\u001b[1;32m    <a href='file:///Users/melkor/Documents/GitHub/Karanir/karanir/thanagor/knowledge/executor.py?line=174'>175</a>\u001b[0m \u001b[39mprint\u001b[39m(context_params[\u001b[39m0\u001b[39m][\u001b[39m\"\u001b[39m\u001b[39mend\u001b[39m\u001b[39m\"\u001b[39m])\n\u001b[1;32m    <a href='file:///Users/melkor/Documents/GitHub/Karanir/karanir/thanagor/knowledge/executor.py?line=176'>177</a>\u001b[0m \u001b[39m# perform value assignment\u001b[39;00m\n\u001b[0;32m--> <a href='file:///Users/melkor/Documents/GitHub/Karanir/karanir/thanagor/knowledge/executor.py?line=177'>178</a>\u001b[0m effect_output \u001b[39m=\u001b[39m \u001b[39mself\u001b[39;49m\u001b[39m.\u001b[39;49mevaluate(effect_expr, context_params)\n\u001b[1;32m    <a href='file:///Users/melkor/Documents/GitHub/Karanir/karanir/thanagor/knowledge/executor.py?line=178'>179</a>\u001b[0m context[\u001b[39m\"\u001b[39m\u001b[39mis-red\u001b[39m\u001b[39m\"\u001b[39m][\u001b[39m0\u001b[39m] \u001b[39m*\u001b[39m\u001b[39m=\u001b[39m (\u001b[39m1\u001b[39m \u001b[39m-\u001b[39m precond)\n\u001b[1;32m    <a href='file:///Users/melkor/Documents/GitHub/Karanir/karanir/thanagor/knowledge/executor.py?line=179'>180</a>\u001b[0m context[\u001b[39m\"\u001b[39m\u001b[39mis-red\u001b[39m\u001b[39m\"\u001b[39m][\u001b[39m0\u001b[39m] \u001b[39m+\u001b[39m\u001b[39m=\u001b[39m precond \u001b[39m*\u001b[39m context[\u001b[39m\"\u001b[39m\u001b[39mis-red\u001b[39m\u001b[39m\"\u001b[39m][\u001b[39m2\u001b[39m]\n",
      "File \u001b[0;32m~/Documents/GitHub/Karanir/karanir/thanagor/knowledge/executor.py:135\u001b[0m, in \u001b[0;36mCentralExecutor.evaluate\u001b[0;34m(self, program, context)\u001b[0m\n\u001b[1;32m    <a href='file:///Users/melkor/Documents/GitHub/Karanir/karanir/thanagor/knowledge/executor.py?line=131'>132</a>\u001b[0m     flag \u001b[39m=\u001b[39m \u001b[39mTrue\u001b[39;00m \u001b[39min\u001b[39;00m [derive \u001b[39min\u001b[39;00m flat_string \u001b[39mfor\u001b[39;00m derive \u001b[39min\u001b[39;00m \u001b[39mself\u001b[39m\u001b[39m.\u001b[39mderived]\n\u001b[1;32m    <a href='file:///Users/melkor/Documents/GitHub/Karanir/karanir/thanagor/knowledge/executor.py?line=132'>133</a>\u001b[0m program \u001b[39m=\u001b[39m Program\u001b[39m.\u001b[39mparse(flat_string)\n\u001b[0;32m--> <a href='file:///Users/melkor/Documents/GitHub/Karanir/karanir/thanagor/knowledge/executor.py?line=134'>135</a>\u001b[0m outputs \u001b[39m=\u001b[39m program\u001b[39m.\u001b[39;49mevaluate(context)\n\u001b[1;32m    <a href='file:///Users/melkor/Documents/GitHub/Karanir/karanir/thanagor/knowledge/executor.py?line=135'>136</a>\u001b[0m \u001b[39mreturn\u001b[39;00m outputs\n",
      "File \u001b[0;32m~/Documents/GitHub/Karanir/karanir/thanagor/program.py:394\u001b[0m, in \u001b[0;36mApplication.evaluate\u001b[0;34m(self, environment)\u001b[0m\n\u001b[1;32m    <a href='file:///Users/melkor/Documents/GitHub/Karanir/karanir/thanagor/program.py?line=391'>392</a>\u001b[0m \u001b[39mif\u001b[39;00m \u001b[39mself\u001b[39m\u001b[39m.\u001b[39misConditional:\n\u001b[1;32m    <a href='file:///Users/melkor/Documents/GitHub/Karanir/karanir/thanagor/program.py?line=392'>393</a>\u001b[0m     \u001b[39mif\u001b[39;00m \u001b[39mself\u001b[39m\u001b[39m.\u001b[39mbranch\u001b[39m.\u001b[39mevaluate(environment):\n\u001b[0;32m--> <a href='file:///Users/melkor/Documents/GitHub/Karanir/karanir/thanagor/program.py?line=393'>394</a>\u001b[0m         \u001b[39mreturn\u001b[39;00m \u001b[39mself\u001b[39;49m\u001b[39m.\u001b[39;49mtrueBranch\u001b[39m.\u001b[39;49mevaluate(environment)\n\u001b[1;32m    <a href='file:///Users/melkor/Documents/GitHub/Karanir/karanir/thanagor/program.py?line=394'>395</a>\u001b[0m     \u001b[39melse\u001b[39;00m:\n\u001b[1;32m    <a href='file:///Users/melkor/Documents/GitHub/Karanir/karanir/thanagor/program.py?line=395'>396</a>\u001b[0m         \u001b[39mreturn\u001b[39;00m \u001b[39mself\u001b[39m\u001b[39m.\u001b[39mfalseBranch\u001b[39m.\u001b[39mevaluate(environment)\n",
      "File \u001b[0;32m~/Documents/GitHub/Karanir/karanir/thanagor/program.py:398\u001b[0m, in \u001b[0;36mApplication.evaluate\u001b[0;34m(self, environment)\u001b[0m\n\u001b[1;32m    <a href='file:///Users/melkor/Documents/GitHub/Karanir/karanir/thanagor/program.py?line=395'>396</a>\u001b[0m         \u001b[39mreturn\u001b[39;00m \u001b[39mself\u001b[39m\u001b[39m.\u001b[39mfalseBranch\u001b[39m.\u001b[39mevaluate(environment)\n\u001b[1;32m    <a href='file:///Users/melkor/Documents/GitHub/Karanir/karanir/thanagor/program.py?line=396'>397</a>\u001b[0m \u001b[39melse\u001b[39;00m:\n\u001b[0;32m--> <a href='file:///Users/melkor/Documents/GitHub/Karanir/karanir/thanagor/program.py?line=397'>398</a>\u001b[0m     \u001b[39mreturn\u001b[39;00m \u001b[39mself\u001b[39;49m\u001b[39m.\u001b[39;49mf\u001b[39m.\u001b[39;49mevaluate(environment)(\u001b[39mself\u001b[39m\u001b[39m.\u001b[39mx\u001b[39m.\u001b[39mevaluate(environment))\n",
      "File \u001b[0;32m~/Documents/GitHub/Karanir/karanir/thanagor/program.py:398\u001b[0m, in \u001b[0;36mApplication.evaluate\u001b[0;34m(self, environment)\u001b[0m\n\u001b[1;32m    <a href='file:///Users/melkor/Documents/GitHub/Karanir/karanir/thanagor/program.py?line=395'>396</a>\u001b[0m         \u001b[39mreturn\u001b[39;00m \u001b[39mself\u001b[39m\u001b[39m.\u001b[39mfalseBranch\u001b[39m.\u001b[39mevaluate(environment)\n\u001b[1;32m    <a href='file:///Users/melkor/Documents/GitHub/Karanir/karanir/thanagor/program.py?line=396'>397</a>\u001b[0m \u001b[39melse\u001b[39;00m:\n\u001b[0;32m--> <a href='file:///Users/melkor/Documents/GitHub/Karanir/karanir/thanagor/program.py?line=397'>398</a>\u001b[0m     \u001b[39mreturn\u001b[39;00m \u001b[39mself\u001b[39;49m\u001b[39m.\u001b[39;49mf\u001b[39m.\u001b[39;49mevaluate(environment)(\u001b[39mself\u001b[39;49m\u001b[39m.\u001b[39;49mx\u001b[39m.\u001b[39;49mevaluate(environment))\n",
      "\u001b[0;31mTypeError\u001b[0m: Assign() missing 1 required positional argument: 'y'"
     ]
    }
   ],
   "source": [
    "from karanir.utils.tensor import logit\n",
    "context = {\n",
    "    \"end\": logit(torch.tensor([0.00,0.5,1.0])),\n",
    "    \"features\": torch.randn([3,obj_dim]),\n",
    "    \"is-red\":logit(torch.tensor([0.00,0.5,1.0])),\n",
    "    \"executor\": model.central_executor\n",
    "}\n",
    "print(context[\"is-red\"])\n",
    "model.central_executor.apply_action(\"pick-up\", [0,2], context)\n",
    "\n",
    "print(context[\"is-red\"])\n"
   ]
  },
  {
   "cell_type": "code",
   "execution_count": null,
   "metadata": {},
   "outputs": [
    {
     "data": {
      "text/plain": [
       "0.6649228300000001"
      ]
     },
     "execution_count": 6,
     "metadata": {},
     "output_type": "execute_result"
    }
   ],
   "source": [
    "-9.2102 * (1 - 0.5361) + 0.5361 * 9.2101"
   ]
  }
 ],
 "metadata": {
  "interpreter": {
   "hash": "a47e46093c771f9510c4aabf3710bfb1355e5f870a13f8c22092f45d4d23626d"
  },
  "kernelspec": {
   "display_name": "Python 3.9.13 ('Melkor')",
   "language": "python",
   "name": "python3"
  },
  "language_info": {
   "codemirror_mode": {
    "name": "ipython",
    "version": 3
   },
   "file_extension": ".py",
   "mimetype": "text/x-python",
   "name": "python",
   "nbconvert_exporter": "python",
   "pygments_lexer": "ipython3",
   "version": "3.9.13"
  },
  "orig_nbformat": 4
 },
 "nbformat": 4,
 "nbformat_minor": 2
}
