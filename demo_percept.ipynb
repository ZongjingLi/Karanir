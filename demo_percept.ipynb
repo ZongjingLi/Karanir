{
 "cells": [
  {
   "cell_type": "code",
   "execution_count": 4,
   "metadata": {},
   "outputs": [],
   "source": [
    "\"\"\"Load the dataset and dataset config\"\"\"\n",
    "from karanir.datasets.playroom_dataset import PlayroomDataset\n",
    "from torch.utils.data import DataLoader\n",
    "dataset_dir = \"/Users/melkor/Documents/datasets/Playroom\""
   ]
  },
  {
   "cell_type": "code",
   "execution_count": 5,
   "metadata": {},
   "outputs": [],
   "source": [
    "\"\"\"Arguments or the dataset config\"\"\"\n",
    "import argparse\n",
    "parser = argparse.ArgumentParser()\n",
    "parser.add_argument(\"--compute_flow\",           default = False)\n",
    "parser.add_argument(\"--precompute_flow\",        default = False)\n",
    "args = parser.parse_args(args = [])"
   ]
  },
  {
   "cell_type": "code",
   "execution_count": 13,
   "metadata": {},
   "outputs": [
    {
     "ename": "PermissionError",
     "evalue": "[Errno 1] Operation not permitted: '/Users/melkor/Documents/datasets/Playroom/meta.json'",
     "output_type": "error",
     "traceback": [
      "\u001b[0;31m---------------------------------------------------------------------------\u001b[0m",
      "\u001b[0;31mPermissionError\u001b[0m                           Traceback (most recent call last)",
      "\u001b[1;32m/Users/melkor/Documents/GitHub/Karanir/demo_percept.ipynb Cell 3'\u001b[0m in \u001b[0;36m<cell line: 2>\u001b[0;34m()\u001b[0m\n\u001b[1;32m      <a href='vscode-notebook-cell:/Users/melkor/Documents/GitHub/Karanir/demo_percept.ipynb#ch0000002?line=0'>1</a>\u001b[0m \u001b[39mimport\u001b[39;00m \u001b[39mmatplotlib\u001b[39;00m\u001b[39m.\u001b[39;00m\u001b[39mpyplot\u001b[39;00m \u001b[39mas\u001b[39;00m \u001b[39mplt\u001b[39;00m\n\u001b[0;32m----> <a href='vscode-notebook-cell:/Users/melkor/Documents/GitHub/Karanir/demo_percept.ipynb#ch0000002?line=1'>2</a>\u001b[0m dataset \u001b[39m=\u001b[39m PlayroomDataset(\u001b[39mTrue\u001b[39;49;00m, args, dataset_dir \u001b[39m=\u001b[39;49m dataset_dir, flow \u001b[39m=\u001b[39;49m \u001b[39mFalse\u001b[39;49;00m)\n\u001b[1;32m      <a href='vscode-notebook-cell:/Users/melkor/Documents/GitHub/Karanir/demo_percept.ipynb#ch0000002?line=2'>3</a>\u001b[0m loader \u001b[39m=\u001b[39m DataLoader(dataset, batch_size \u001b[39m=\u001b[39m \u001b[39m3\u001b[39m, shuffle \u001b[39m=\u001b[39m \u001b[39mTrue\u001b[39;00m)\n\u001b[1;32m      <a href='vscode-notebook-cell:/Users/melkor/Documents/GitHub/Karanir/demo_percept.ipynb#ch0000002?line=4'>5</a>\u001b[0m \u001b[39mfor\u001b[39;00m sample \u001b[39min\u001b[39;00m loader:\u001b[39mbreak\u001b[39;00m;\n",
      "File \u001b[0;32m~/Documents/GitHub/Karanir/karanir/datasets/playroom_dataset.py:25\u001b[0m, in \u001b[0;36mPlayroomDataset.__init__\u001b[0;34m(self, training, args, frame_idx, dataset_dir, flow)\u001b[0m\n\u001b[1;32m     <a href='file:///Users/melkor/Documents/GitHub/Karanir/karanir/datasets/playroom_dataset.py?line=22'>23</a>\u001b[0m \u001b[39m# meta.json is only required for TDW datasets\u001b[39;00m\n\u001b[1;32m     <a href='file:///Users/melkor/Documents/GitHub/Karanir/karanir/datasets/playroom_dataset.py?line=23'>24</a>\u001b[0m meta_path \u001b[39m=\u001b[39m os\u001b[39m.\u001b[39mpath\u001b[39m.\u001b[39mjoin(dataset_dir, \u001b[39m'\u001b[39m\u001b[39mmeta.json\u001b[39m\u001b[39m'\u001b[39m)\n\u001b[0;32m---> <a href='file:///Users/melkor/Documents/GitHub/Karanir/karanir/datasets/playroom_dataset.py?line=24'>25</a>\u001b[0m \u001b[39mself\u001b[39m\u001b[39m.\u001b[39mmeta \u001b[39m=\u001b[39m json\u001b[39m.\u001b[39mloads(Path(meta_path)\u001b[39m.\u001b[39;49mopen()\u001b[39m.\u001b[39mread())\n\u001b[1;32m     <a href='file:///Users/melkor/Documents/GitHub/Karanir/karanir/datasets/playroom_dataset.py?line=26'>27</a>\u001b[0m \u001b[39mif\u001b[39;00m \u001b[39mself\u001b[39m\u001b[39m.\u001b[39mtraining:\n\u001b[1;32m     <a href='file:///Users/melkor/Documents/GitHub/Karanir/karanir/datasets/playroom_dataset.py?line=27'>28</a>\u001b[0m     \u001b[39mself\u001b[39m\u001b[39m.\u001b[39mfile_list \u001b[39m=\u001b[39m glob\u001b[39m.\u001b[39mglob(os\u001b[39m.\u001b[39mpath\u001b[39m.\u001b[39mjoin(dataset_dir, \u001b[39m'\u001b[39m\u001b[39mimages\u001b[39m\u001b[39m'\u001b[39m, \u001b[39m'\u001b[39m\u001b[39mmodel_split_*\u001b[39m\u001b[39m'\u001b[39m, \u001b[39m'\u001b[39m\u001b[39m*[0-8]\u001b[39m\u001b[39m'\u001b[39m))\n",
      "File \u001b[0;32m~/miniforge3/envs/Melkor/lib/python3.9/pathlib.py:1252\u001b[0m, in \u001b[0;36mPath.open\u001b[0;34m(self, mode, buffering, encoding, errors, newline)\u001b[0m\n\u001b[1;32m   <a href='file:///Users/melkor/miniforge3/envs/Melkor/lib/python3.9/pathlib.py?line=1245'>1246</a>\u001b[0m \u001b[39mdef\u001b[39;00m \u001b[39mopen\u001b[39m(\u001b[39mself\u001b[39m, mode\u001b[39m=\u001b[39m\u001b[39m'\u001b[39m\u001b[39mr\u001b[39m\u001b[39m'\u001b[39m, buffering\u001b[39m=\u001b[39m\u001b[39m-\u001b[39m\u001b[39m1\u001b[39m, encoding\u001b[39m=\u001b[39m\u001b[39mNone\u001b[39;00m,\n\u001b[1;32m   <a href='file:///Users/melkor/miniforge3/envs/Melkor/lib/python3.9/pathlib.py?line=1246'>1247</a>\u001b[0m          errors\u001b[39m=\u001b[39m\u001b[39mNone\u001b[39;00m, newline\u001b[39m=\u001b[39m\u001b[39mNone\u001b[39;00m):\n\u001b[1;32m   <a href='file:///Users/melkor/miniforge3/envs/Melkor/lib/python3.9/pathlib.py?line=1247'>1248</a>\u001b[0m \u001b[39m    \u001b[39m\u001b[39m\"\"\"\u001b[39;00m\n\u001b[1;32m   <a href='file:///Users/melkor/miniforge3/envs/Melkor/lib/python3.9/pathlib.py?line=1248'>1249</a>\u001b[0m \u001b[39m    Open the file pointed by this path and return a file object, as\u001b[39;00m\n\u001b[1;32m   <a href='file:///Users/melkor/miniforge3/envs/Melkor/lib/python3.9/pathlib.py?line=1249'>1250</a>\u001b[0m \u001b[39m    the built-in open() function does.\u001b[39;00m\n\u001b[1;32m   <a href='file:///Users/melkor/miniforge3/envs/Melkor/lib/python3.9/pathlib.py?line=1250'>1251</a>\u001b[0m \u001b[39m    \"\"\"\u001b[39;00m\n\u001b[0;32m-> <a href='file:///Users/melkor/miniforge3/envs/Melkor/lib/python3.9/pathlib.py?line=1251'>1252</a>\u001b[0m     \u001b[39mreturn\u001b[39;00m io\u001b[39m.\u001b[39;49mopen(\u001b[39mself\u001b[39;49m, mode, buffering, encoding, errors, newline,\n\u001b[1;32m   <a href='file:///Users/melkor/miniforge3/envs/Melkor/lib/python3.9/pathlib.py?line=1252'>1253</a>\u001b[0m                    opener\u001b[39m=\u001b[39;49m\u001b[39mself\u001b[39;49m\u001b[39m.\u001b[39;49m_opener)\n",
      "File \u001b[0;32m~/miniforge3/envs/Melkor/lib/python3.9/pathlib.py:1120\u001b[0m, in \u001b[0;36mPath._opener\u001b[0;34m(self, name, flags, mode)\u001b[0m\n\u001b[1;32m   <a href='file:///Users/melkor/miniforge3/envs/Melkor/lib/python3.9/pathlib.py?line=1117'>1118</a>\u001b[0m \u001b[39mdef\u001b[39;00m \u001b[39m_opener\u001b[39m(\u001b[39mself\u001b[39m, name, flags, mode\u001b[39m=\u001b[39m\u001b[39m0o666\u001b[39m):\n\u001b[1;32m   <a href='file:///Users/melkor/miniforge3/envs/Melkor/lib/python3.9/pathlib.py?line=1118'>1119</a>\u001b[0m     \u001b[39m# A stub for the opener argument to built-in open()\u001b[39;00m\n\u001b[0;32m-> <a href='file:///Users/melkor/miniforge3/envs/Melkor/lib/python3.9/pathlib.py?line=1119'>1120</a>\u001b[0m     \u001b[39mreturn\u001b[39;00m \u001b[39mself\u001b[39;49m\u001b[39m.\u001b[39;49m_accessor\u001b[39m.\u001b[39;49mopen(\u001b[39mself\u001b[39;49m, flags, mode)\n",
      "\u001b[0;31mPermissionError\u001b[0m: [Errno 1] Operation not permitted: '/Users/melkor/Documents/datasets/Playroom/meta.json'"
     ]
    }
   ],
   "source": [
    "import matplotlib.pyplot as plt\n",
    "dataset = PlayroomDataset(True, args, dataset_dir = dataset_dir, flow = False)\n",
    "loader = DataLoader(dataset, batch_size = 3, shuffle = True)\n",
    "\n",
    "for sample in loader:break;\n",
    "\n",
    "def visualize_sample(sample, fig_name = \"visualize sample\", n = 12):\n",
    "    fig = plt.figure(fig_name, frameon = False, figsize = (n,n * 3))\n",
    "    for i,k in enumerate(sample):\n",
    "        ax = fig.add_subplot(1,3,i+1)\n",
    "        ax.imshow(sample[k][0])\n",
    "        plt.xticks([]);plt.yticks([]) # ignore all the label tick and just show the pics\n",
    "    plt.show()\n",
    "\n",
    "visualize_sample(sample)"
   ]
  },
  {
   "cell_type": "code",
   "execution_count": 11,
   "metadata": {},
   "outputs": [
    {
     "ename": "NameError",
     "evalue": "name 'sample' is not defined",
     "output_type": "error",
     "traceback": [
      "\u001b[0;31m---------------------------------------------------------------------------\u001b[0m",
      "\u001b[0;31mNameError\u001b[0m                                 Traceback (most recent call last)",
      "\u001b[1;32m/Users/melkor/Documents/GitHub/Karanir/demo_percept.ipynb Cell 4'\u001b[0m in \u001b[0;36m<cell line: 6>\u001b[0;34m()\u001b[0m\n\u001b[1;32m      <a href='vscode-notebook-cell:/Users/melkor/Documents/GitHub/Karanir/demo_percept.ipynb#ch0000003?line=2'>3</a>\u001b[0m \u001b[39mfrom\u001b[39;00m \u001b[39mkaranir\u001b[39;00m\u001b[39m.\u001b[39;00m\u001b[39mthanagor\u001b[39;00m\u001b[39m.\u001b[39;00m\u001b[39mmodel\u001b[39;00m \u001b[39mimport\u001b[39;00m config\n\u001b[1;32m      <a href='vscode-notebook-cell:/Users/melkor/Documents/GitHub/Karanir/demo_percept.ipynb#ch0000003?line=3'>4</a>\u001b[0m \u001b[39mimport\u001b[39;00m \u001b[39mtorchvision\u001b[39;00m\n\u001b[0;32m----> <a href='vscode-notebook-cell:/Users/melkor/Documents/GitHub/Karanir/demo_percept.ipynb#ch0000003?line=5'>6</a>\u001b[0m img \u001b[39m=\u001b[39m sample[\u001b[39m\"\u001b[39m\u001b[39mimg1\u001b[39m\u001b[39m\"\u001b[39m] \u001b[39m/\u001b[39m \u001b[39m255.\u001b[39m\n\u001b[1;32m      <a href='vscode-notebook-cell:/Users/melkor/Documents/GitHub/Karanir/demo_percept.ipynb#ch0000003?line=6'>7</a>\u001b[0m img \u001b[39m=\u001b[39m torchvision\u001b[39m.\u001b[39mtransforms\u001b[39m.\u001b[39mResize([\u001b[39m128\u001b[39m,\u001b[39m128\u001b[39m])(img\u001b[39m.\u001b[39mpermute(\u001b[39m0\u001b[39m,\u001b[39m3\u001b[39m,\u001b[39m1\u001b[39m,\u001b[39m2\u001b[39m))\n\u001b[1;32m      <a href='vscode-notebook-cell:/Users/melkor/Documents/GitHub/Karanir/demo_percept.ipynb#ch0000003?line=8'>9</a>\u001b[0m gt_seg \u001b[39m=\u001b[39m sample[\u001b[39m\"\u001b[39m\u001b[39mgt_segment\u001b[39m\u001b[39m\"\u001b[39m]\n",
      "\u001b[0;31mNameError\u001b[0m: name 'sample' is not defined"
     ]
    }
   ],
   "source": [
    "\"\"\"Build the SceneNet that performs visual grouping with conditions\"\"\"\n",
    "from karanir.thanagor.perception import SceneNet\n",
    "from karanir.thanagor.model import config\n",
    "import torchvision\n",
    "\n",
    "img = sample[\"img1\"] / 255.\n",
    "img = torchvision.transforms.Resize([128,128])(img.permute(0,3,1,2))\n",
    "\n",
    "gt_seg = sample[\"gt_segment\"]\n",
    "gt_seg = torchvision.transforms.Resize([128,128])(gt_seg)\n",
    "\n",
    "\"\"\" Down Cast the images into the resolution of (128,128)\"\"\"\n",
    "fig = plt.figure(\"down sample images\")\n",
    "ax1 = fig.add_subplot(121)\n",
    "ax1.imshow(img[0].permute(1,2,0)); plt.xticks([]); plt.yticks([])\n",
    "ax2 = fig.add_subplot(122)\n",
    "ax2.imshow(gt_seg[0]); plt.xticks([]); plt.yticks([])\n",
    "plt.show()"
   ]
  },
  {
   "cell_type": "code",
   "execution_count": 12,
   "metadata": {},
   "outputs": [
    {
     "ename": "NameError",
     "evalue": "name 'img' is not defined",
     "output_type": "error",
     "traceback": [
      "\u001b[0;31m---------------------------------------------------------------------------\u001b[0m",
      "\u001b[0;31mNameError\u001b[0m                                 Traceback (most recent call last)",
      "\u001b[1;32m/Users/melkor/Documents/GitHub/Karanir/demo_percept.ipynb Cell 5'\u001b[0m in \u001b[0;36m<cell line: 4>\u001b[0;34m()\u001b[0m\n\u001b[1;32m      <a href='vscode-notebook-cell:/Users/melkor/Documents/GitHub/Karanir/demo_percept.ipynb#ch0000004?line=0'>1</a>\u001b[0m \u001b[39m\"\"\"Actual Calculations and the small sample training\"\"\"\u001b[39;00m\n\u001b[1;32m      <a href='vscode-notebook-cell:/Users/melkor/Documents/GitHub/Karanir/demo_percept.ipynb#ch0000004?line=1'>2</a>\u001b[0m scenenet \u001b[39m=\u001b[39m SceneNet(config)\n\u001b[0;32m----> <a href='vscode-notebook-cell:/Users/melkor/Documents/GitHub/Karanir/demo_percept.ipynb#ch0000004?line=3'>4</a>\u001b[0m outputs \u001b[39m=\u001b[39m scenenet(img, gt_seg)\n\u001b[1;32m      <a href='vscode-notebook-cell:/Users/melkor/Documents/GitHub/Karanir/demo_percept.ipynb#ch0000004?line=5'>6</a>\u001b[0m \u001b[39m\"\"\"Optimization over the loss and KL-divergence\"\"\"\u001b[39;00m\n\u001b[1;32m      <a href='vscode-notebook-cell:/Users/melkor/Documents/GitHub/Karanir/demo_percept.ipynb#ch0000004?line=6'>7</a>\u001b[0m loss \u001b[39m=\u001b[39m outputs[\u001b[39m\"\u001b[39m\u001b[39mloss\u001b[39m\u001b[39m\"\u001b[39m]\n",
      "\u001b[0;31mNameError\u001b[0m: name 'img' is not defined"
     ]
    }
   ],
   "source": [
    "\"\"\"Actual Calculations and the small sample training\"\"\"\n",
    "scenenet = SceneNet(config)\n",
    "\n",
    "outputs = scenenet(img, gt_seg)\n",
    "\n",
    "\"\"\"Optimization over the loss and KL-divergence\"\"\"\n",
    "loss = outputs[\"loss\"]\n",
    "print(f\"loss:{loss}\")"
   ]
  },
  {
   "cell_type": "markdown",
   "metadata": {},
   "source": []
  },
  {
   "cell_type": "code",
   "execution_count": 9,
   "metadata": {},
   "outputs": [
    {
     "name": "stdout",
     "output_type": "stream",
     "text": [
      "tensor([[[  65.,   64.,   65.,  ...,   65.,   64.,   65.],\n",
      "         [  64.,   65.,   66.,  ...,   64.,   65.,   66.],\n",
      "         [  65.,   66.,   67.,  ...,   65.,   66.,   67.],\n",
      "         ...,\n",
      "         [4028., 4029., 4030.,  ..., 4028., 4029., 4030.],\n",
      "         [4029., 4030., 4031.,  ..., 4029., 4030., 4031.],\n",
      "         [4030., 4031., 4030.,  ..., 4030., 4031., 4030.]]])\n",
      "torch.Size([1, 4096, 9])\n"
     ]
    }
   ],
   "source": [
    "import torch\n",
    "import torch.nn as nn\n",
    "import torch.nn.functional as F\n",
    "\n",
    "def generate_local_indices(img_size, K, padding = 'constant'):\n",
    "    H, W = img_size\n",
    "    indice_maps = torch.arange(H * W).reshape([1, 1, H, W]).float()\n",
    "\n",
    "    # symetric_padding\n",
    "    assert K % 2 == 1 # assert K is odd\n",
    "    half_K = int((K - 1) / 2)\n",
    "\n",
    "    assert padding in [\"reflection\", \"constant\"]\n",
    "    if padding == \"constant\":\n",
    "        pad_fn = torch.nn.ReflectionPad2d(half_K)\n",
    "    else:\n",
    "        pad_fn = torch.nn.ConstantPad2d(half_K)\n",
    "    \n",
    "    indice_maps = pad_fn(indice_maps)\n",
    "    local_inds = F.unfold(indice_maps, kernel_size = K, stride = 1)\n",
    "    local_inds = local_inds.permute(0,2,1)\n",
    "    return local_inds\n",
    "\n",
    "inds = generate_local_indices([64,64],3)\n",
    "print(inds)\n",
    "print(inds.shape)"
   ]
  },
  {
   "cell_type": "code",
   "execution_count": 8,
   "metadata": {},
   "outputs": [
    {
     "ename": "NameError",
     "evalue": "name 'outputs' is not defined",
     "output_type": "error",
     "traceback": [
      "\u001b[0;31m---------------------------------------------------------------------------\u001b[0m",
      "\u001b[0;31mNameError\u001b[0m                                 Traceback (most recent call last)",
      "\u001b[1;32m/Users/melkor/Documents/GitHub/Karanir/demo_percept.ipynb Cell 8'\u001b[0m in \u001b[0;36m<cell line: 4>\u001b[0;34m()\u001b[0m\n\u001b[1;32m      <a href='vscode-notebook-cell:/Users/melkor/Documents/GitHub/Karanir/demo_percept.ipynb#ch0000007?line=0'>1</a>\u001b[0m \u001b[39mfrom\u001b[39;00m \u001b[39mkaranir\u001b[39;00m\u001b[39m.\u001b[39;00m\u001b[39mthanagor\u001b[39;00m\u001b[39m.\u001b[39;00m\u001b[39mperception\u001b[39;00m\u001b[39m.\u001b[39;00m\u001b[39mpropagation\u001b[39;00m \u001b[39mimport\u001b[39;00m GraphPropagation\n\u001b[1;32m      <a href='vscode-notebook-cell:/Users/melkor/Documents/GitHub/Karanir/demo_percept.ipynb#ch0000007?line=1'>2</a>\u001b[0m \u001b[39mfrom\u001b[39;00m \u001b[39mkaranir\u001b[39;00m\u001b[39m.\u001b[39;00m\u001b[39mutils\u001b[39;00m\u001b[39m.\u001b[39;00m\u001b[39mtensor\u001b[39;00m \u001b[39mimport\u001b[39;00m local_to_sparse_global_affinity\n\u001b[0;32m----> <a href='vscode-notebook-cell:/Users/melkor/Documents/GitHub/Karanir/demo_percept.ipynb#ch0000007?line=3'>4</a>\u001b[0m connection \u001b[39m=\u001b[39m outputs[\u001b[39m\"\u001b[39m\u001b[39mconnections\u001b[39m\u001b[39m\"\u001b[39m][\u001b[39m0\u001b[39m]\n\u001b[1;32m      <a href='vscode-notebook-cell:/Users/melkor/Documents/GitHub/Karanir/demo_percept.ipynb#ch0000007?line=4'>5</a>\u001b[0m prop \u001b[39m=\u001b[39m GraphPropagation()\n\u001b[1;32m      <a href='vscode-notebook-cell:/Users/melkor/Documents/GitHub/Karanir/demo_percept.ipynb#ch0000007?line=6'>7</a>\u001b[0m \u001b[39mprint\u001b[39m(connection\u001b[39m.\u001b[39mshape)\n",
      "\u001b[0;31mNameError\u001b[0m: name 'outputs' is not defined"
     ]
    }
   ],
   "source": [
    "from karanir.thanagor.perception.propagation import GraphPropagation\n",
    "from karanir.utils.tensor import local_to_sparse_global_affinity\n",
    "\n",
    "connection = outputs[\"connections\"][0]\n",
    "prop = GraphPropagation()\n",
    "\n",
    "print(connection.shape)\n",
    "B, N, K = connection.shape\n",
    "\n",
    "features = torch.randn([B,N,128]).softmax(dim = -1)\n",
    "\n",
    "adj = connection.softmax(-1)\n",
    "adj = adj / torch.max(adj, dim = -1, keepdim = True)[0].clamp(min = 1e-12)\n",
    "\n",
    "adj = local_to_sparse_global_affinity()\n",
    "\n",
    "from karanir.utils.tensor import stats_summary\n",
    "stats_summary(adj)\n",
    "\n",
    "prop_list = prop(features, adj)"
   ]
  },
  {
   "cell_type": "code",
   "execution_count": 7,
   "metadata": {},
   "outputs": [
    {
     "ename": "PermissionDeniedError",
     "evalue": "{{function_node __wrapped__IteratorGetNext_output_types_2_device_/job:localhost/replica:0/task:0/device:CPU:0}} /Users/melkor/Documents/datasets/objects_room_train.tfrecords; Operation not permitted [Op:IteratorGetNext] name: ",
     "output_type": "error",
     "traceback": [
      "\u001b[0;31m---------------------------------------------------------------------------\u001b[0m",
      "\u001b[0;31mPermissionDeniedError\u001b[0m                     Traceback (most recent call last)",
      "\u001b[1;32m/Users/melkor/Documents/GitHub/Karanir/demo_percept.ipynb Cell 9'\u001b[0m in \u001b[0;36m<cell line: 78>\u001b[0;34m()\u001b[0m\n\u001b[1;32m     <a href='vscode-notebook-cell:/Users/melkor/Documents/GitHub/Karanir/demo_percept.ipynb#ch0000008?line=73'>74</a>\u001b[0m tf_records_path \u001b[39m=\u001b[39m \u001b[39m'\u001b[39m\u001b[39m/Users/melkor/Documents/datasets/objects_room_train.tfrecords\u001b[39m\u001b[39m'\u001b[39m\n\u001b[1;32m     <a href='vscode-notebook-cell:/Users/melkor/Documents/GitHub/Karanir/demo_percept.ipynb#ch0000008?line=75'>76</a>\u001b[0m train_dataset \u001b[39m=\u001b[39m dataset(tf_records_path, \u001b[39m\"\u001b[39m\u001b[39mtrain\u001b[39m\u001b[39m\"\u001b[39m)\n\u001b[0;32m---> <a href='vscode-notebook-cell:/Users/melkor/Documents/GitHub/Karanir/demo_percept.ipynb#ch0000008?line=77'>78</a>\u001b[0m \u001b[39mfor\u001b[39;00m sample \u001b[39min\u001b[39;00m train_dataset:\n\u001b[1;32m     <a href='vscode-notebook-cell:/Users/melkor/Documents/GitHub/Karanir/demo_percept.ipynb#ch0000008?line=78'>79</a>\u001b[0m     sample;\n\u001b[1;32m     <a href='vscode-notebook-cell:/Users/melkor/Documents/GitHub/Karanir/demo_percept.ipynb#ch0000008?line=79'>80</a>\u001b[0m     \u001b[39mprint\u001b[39m(sample)\n",
      "File \u001b[0;32m~/miniforge3/envs/Melkor/lib/python3.9/site-packages/tensorflow/python/data/ops/iterator_ops.py:814\u001b[0m, in \u001b[0;36mOwnedIterator.__next__\u001b[0;34m(self)\u001b[0m\n\u001b[1;32m    <a href='file:///Users/melkor/miniforge3/envs/Melkor/lib/python3.9/site-packages/tensorflow/python/data/ops/iterator_ops.py?line=811'>812</a>\u001b[0m \u001b[39mdef\u001b[39;00m \u001b[39m__next__\u001b[39m(\u001b[39mself\u001b[39m):\n\u001b[1;32m    <a href='file:///Users/melkor/miniforge3/envs/Melkor/lib/python3.9/site-packages/tensorflow/python/data/ops/iterator_ops.py?line=812'>813</a>\u001b[0m   \u001b[39mtry\u001b[39;00m:\n\u001b[0;32m--> <a href='file:///Users/melkor/miniforge3/envs/Melkor/lib/python3.9/site-packages/tensorflow/python/data/ops/iterator_ops.py?line=813'>814</a>\u001b[0m     \u001b[39mreturn\u001b[39;00m \u001b[39mself\u001b[39;49m\u001b[39m.\u001b[39;49m_next_internal()\n\u001b[1;32m    <a href='file:///Users/melkor/miniforge3/envs/Melkor/lib/python3.9/site-packages/tensorflow/python/data/ops/iterator_ops.py?line=814'>815</a>\u001b[0m   \u001b[39mexcept\u001b[39;00m errors\u001b[39m.\u001b[39mOutOfRangeError:\n\u001b[1;32m    <a href='file:///Users/melkor/miniforge3/envs/Melkor/lib/python3.9/site-packages/tensorflow/python/data/ops/iterator_ops.py?line=815'>816</a>\u001b[0m     \u001b[39mraise\u001b[39;00m \u001b[39mStopIteration\u001b[39;00m\n",
      "File \u001b[0;32m~/miniforge3/envs/Melkor/lib/python3.9/site-packages/tensorflow/python/data/ops/iterator_ops.py:777\u001b[0m, in \u001b[0;36mOwnedIterator._next_internal\u001b[0;34m(self)\u001b[0m\n\u001b[1;32m    <a href='file:///Users/melkor/miniforge3/envs/Melkor/lib/python3.9/site-packages/tensorflow/python/data/ops/iterator_ops.py?line=773'>774</a>\u001b[0m \u001b[39m# TODO(b/77291417): This runs in sync mode as iterators use an error status\u001b[39;00m\n\u001b[1;32m    <a href='file:///Users/melkor/miniforge3/envs/Melkor/lib/python3.9/site-packages/tensorflow/python/data/ops/iterator_ops.py?line=774'>775</a>\u001b[0m \u001b[39m# to communicate that there is no more data to iterate over.\u001b[39;00m\n\u001b[1;32m    <a href='file:///Users/melkor/miniforge3/envs/Melkor/lib/python3.9/site-packages/tensorflow/python/data/ops/iterator_ops.py?line=775'>776</a>\u001b[0m \u001b[39mwith\u001b[39;00m context\u001b[39m.\u001b[39mexecution_mode(context\u001b[39m.\u001b[39mSYNC):\n\u001b[0;32m--> <a href='file:///Users/melkor/miniforge3/envs/Melkor/lib/python3.9/site-packages/tensorflow/python/data/ops/iterator_ops.py?line=776'>777</a>\u001b[0m   ret \u001b[39m=\u001b[39m gen_dataset_ops\u001b[39m.\u001b[39;49miterator_get_next(\n\u001b[1;32m    <a href='file:///Users/melkor/miniforge3/envs/Melkor/lib/python3.9/site-packages/tensorflow/python/data/ops/iterator_ops.py?line=777'>778</a>\u001b[0m       \u001b[39mself\u001b[39;49m\u001b[39m.\u001b[39;49m_iterator_resource,\n\u001b[1;32m    <a href='file:///Users/melkor/miniforge3/envs/Melkor/lib/python3.9/site-packages/tensorflow/python/data/ops/iterator_ops.py?line=778'>779</a>\u001b[0m       output_types\u001b[39m=\u001b[39;49m\u001b[39mself\u001b[39;49m\u001b[39m.\u001b[39;49m_flat_output_types,\n\u001b[1;32m    <a href='file:///Users/melkor/miniforge3/envs/Melkor/lib/python3.9/site-packages/tensorflow/python/data/ops/iterator_ops.py?line=779'>780</a>\u001b[0m       output_shapes\u001b[39m=\u001b[39;49m\u001b[39mself\u001b[39;49m\u001b[39m.\u001b[39;49m_flat_output_shapes)\n\u001b[1;32m    <a href='file:///Users/melkor/miniforge3/envs/Melkor/lib/python3.9/site-packages/tensorflow/python/data/ops/iterator_ops.py?line=781'>782</a>\u001b[0m   \u001b[39mtry\u001b[39;00m:\n\u001b[1;32m    <a href='file:///Users/melkor/miniforge3/envs/Melkor/lib/python3.9/site-packages/tensorflow/python/data/ops/iterator_ops.py?line=782'>783</a>\u001b[0m     \u001b[39m# Fast path for the case `self._structure` is not a nested structure.\u001b[39;00m\n\u001b[1;32m    <a href='file:///Users/melkor/miniforge3/envs/Melkor/lib/python3.9/site-packages/tensorflow/python/data/ops/iterator_ops.py?line=783'>784</a>\u001b[0m     \u001b[39mreturn\u001b[39;00m \u001b[39mself\u001b[39m\u001b[39m.\u001b[39m_element_spec\u001b[39m.\u001b[39m_from_compatible_tensor_list(ret)  \u001b[39m# pylint: disable=protected-access\u001b[39;00m\n",
      "File \u001b[0;32m~/miniforge3/envs/Melkor/lib/python3.9/site-packages/tensorflow/python/ops/gen_dataset_ops.py:3028\u001b[0m, in \u001b[0;36miterator_get_next\u001b[0;34m(iterator, output_types, output_shapes, name)\u001b[0m\n\u001b[1;32m   <a href='file:///Users/melkor/miniforge3/envs/Melkor/lib/python3.9/site-packages/tensorflow/python/ops/gen_dataset_ops.py?line=3025'>3026</a>\u001b[0m   \u001b[39mreturn\u001b[39;00m _result\n\u001b[1;32m   <a href='file:///Users/melkor/miniforge3/envs/Melkor/lib/python3.9/site-packages/tensorflow/python/ops/gen_dataset_ops.py?line=3026'>3027</a>\u001b[0m \u001b[39mexcept\u001b[39;00m _core\u001b[39m.\u001b[39m_NotOkStatusException \u001b[39mas\u001b[39;00m e:\n\u001b[0;32m-> <a href='file:///Users/melkor/miniforge3/envs/Melkor/lib/python3.9/site-packages/tensorflow/python/ops/gen_dataset_ops.py?line=3027'>3028</a>\u001b[0m   _ops\u001b[39m.\u001b[39;49mraise_from_not_ok_status(e, name)\n\u001b[1;32m   <a href='file:///Users/melkor/miniforge3/envs/Melkor/lib/python3.9/site-packages/tensorflow/python/ops/gen_dataset_ops.py?line=3028'>3029</a>\u001b[0m \u001b[39mexcept\u001b[39;00m _core\u001b[39m.\u001b[39m_FallbackException:\n\u001b[1;32m   <a href='file:///Users/melkor/miniforge3/envs/Melkor/lib/python3.9/site-packages/tensorflow/python/ops/gen_dataset_ops.py?line=3029'>3030</a>\u001b[0m   \u001b[39mpass\u001b[39;00m\n",
      "File \u001b[0;32m~/miniforge3/envs/Melkor/lib/python3.9/site-packages/tensorflow/python/framework/ops.py:6656\u001b[0m, in \u001b[0;36mraise_from_not_ok_status\u001b[0;34m(e, name)\u001b[0m\n\u001b[1;32m   <a href='file:///Users/melkor/miniforge3/envs/Melkor/lib/python3.9/site-packages/tensorflow/python/framework/ops.py?line=6653'>6654</a>\u001b[0m \u001b[39mdef\u001b[39;00m \u001b[39mraise_from_not_ok_status\u001b[39m(e, name):\n\u001b[1;32m   <a href='file:///Users/melkor/miniforge3/envs/Melkor/lib/python3.9/site-packages/tensorflow/python/framework/ops.py?line=6654'>6655</a>\u001b[0m   e\u001b[39m.\u001b[39mmessage \u001b[39m+\u001b[39m\u001b[39m=\u001b[39m (\u001b[39m\"\u001b[39m\u001b[39m name: \u001b[39m\u001b[39m\"\u001b[39m \u001b[39m+\u001b[39m \u001b[39mstr\u001b[39m(name \u001b[39mif\u001b[39;00m name \u001b[39mis\u001b[39;00m \u001b[39mnot\u001b[39;00m \u001b[39mNone\u001b[39;00m \u001b[39melse\u001b[39;00m \u001b[39m\"\u001b[39m\u001b[39m\"\u001b[39m))\n\u001b[0;32m-> <a href='file:///Users/melkor/miniforge3/envs/Melkor/lib/python3.9/site-packages/tensorflow/python/framework/ops.py?line=6655'>6656</a>\u001b[0m   \u001b[39mraise\u001b[39;00m core\u001b[39m.\u001b[39m_status_to_exception(e) \u001b[39mfrom\u001b[39;00m \u001b[39mNone\u001b[39;00m\n",
      "\u001b[0;31mPermissionDeniedError\u001b[0m: {{function_node __wrapped__IteratorGetNext_output_types_2_device_/job:localhost/replica:0/task:0/device:CPU:0}} /Users/melkor/Documents/datasets/objects_room_train.tfrecords; Operation not permitted [Op:IteratorGetNext] name: "
     ]
    }
   ],
   "source": [
    "import functools\n",
    "import tensorflow as tf\n",
    "import numpy as np\n",
    "# Modified from https://github.com/deepmind/multi_object_datasets to\n",
    "# work in TensorFlow 2\n",
    "\n",
    "COMPRESSION_TYPE = tf.io.TFRecordOptions.get_compression_type_string('GZIP')\n",
    "IMAGE_SIZE = [64, 64]\n",
    "# The maximum number of foreground and background entities in each variant\n",
    "# of the provided datasets. The values correspond to the number of\n",
    "# segmentation masks returned per scene.\n",
    "MAX_NUM_ENTITIES = {\n",
    "    'train': 7,\n",
    "    'six_objects': 10,\n",
    "    'empty_room': 4,\n",
    "    'identical_color': 10\n",
    "}\n",
    "BYTE_FEATURES = ['mask', 'image']\n",
    "\n",
    "\n",
    "def feature_descriptions(max_num_entities):\n",
    "  \"\"\"Create a dictionary describing the dataset features.\n",
    "  Args:\n",
    "    max_num_entities: int. The maximum number of foreground and background\n",
    "      entities in each image. This corresponds to the number of segmentation\n",
    "      masks returned per scene.\n",
    "  Returns:\n",
    "    A dictionary which maps feature names to `tf.Example`-compatible shape and\n",
    "    data type descriptors.\n",
    "  \"\"\"\n",
    "  return {\n",
    "      'image': tf.io.FixedLenFeature(IMAGE_SIZE+[3], tf.string),\n",
    "      'mask': tf.io.FixedLenFeature([max_num_entities]+IMAGE_SIZE+[1], tf.string),\n",
    "  }\n",
    "\n",
    "\n",
    "def _decode(example_proto, features):\n",
    "  # Parse the input `tf.Example` proto using a feature description dictionary.\n",
    "  single_example = tf.io.parse_single_example(example_proto, features)\n",
    "  for k in BYTE_FEATURES:\n",
    "    single_example[k] = tf.squeeze(tf.io.decode_raw(single_example[k], tf.uint8),\n",
    "                                   axis=-1)\n",
    "  return single_example\n",
    "\n",
    "\n",
    "def dataset(tfrecords_path, dataset_variant, read_buffer_size=None,\n",
    "            map_parallel_calls=None):\n",
    "  \"\"\"Read, decompress, and parse the TFRecords file.\n",
    "  Args:\n",
    "    tfrecords_path: str. Path to the dataset file.\n",
    "    dataset_variant: str. One of ['train', 'six_objects', 'empty_room',\n",
    "      'identical_color']. This is used to identify the maximum number of\n",
    "      entities in each scene. If an incorrect identifier is passed in, the\n",
    "      TFRecords file will not be read correctly.\n",
    "    read_buffer_size: int. Number of bytes in the read buffer. See documentation\n",
    "      for `tf.data.TFRecordDataset.__init__`.\n",
    "    map_parallel_calls: int. Number of elements decoded asynchronously in\n",
    "      parallel. See documentation for `tf.data.Dataset.map`.\n",
    "  Returns:\n",
    "    An unbatched `tf.data.TFRecordDataset`.\n",
    "  \"\"\"\n",
    "  if dataset_variant not in MAX_NUM_ENTITIES:\n",
    "    raise ValueError('Invalid `dataset_variant` provided. The supported values'\n",
    "                     ' are: {}'.format(list(MAX_NUM_ENTITIES.keys())))\n",
    "  max_num_entities = MAX_NUM_ENTITIES[dataset_variant]\n",
    "  raw_dataset = tf.data.TFRecordDataset(\n",
    "      tfrecords_path, compression_type=COMPRESSION_TYPE,\n",
    "      buffer_size=read_buffer_size)\n",
    "  features = feature_descriptions(max_num_entities)\n",
    "  partial_decode_fn = functools.partial(_decode, features=features)\n",
    "  return raw_dataset.map(partial_decode_fn,\n",
    "                         num_parallel_calls=map_parallel_calls)\n",
    "\n",
    "tf_records_path = '/Users/melkor/Documents/datasets/objects_room_train.tfrecords'\n",
    "\n",
    "train_dataset = dataset(tf_records_path, \"train\")\n",
    "\n",
    "for sample in train_dataset:\n",
    "    sample;\n",
    "    print(sample)\n",
    "    break"
   ]
  }
 ],
 "metadata": {
  "interpreter": {
   "hash": "a47e46093c771f9510c4aabf3710bfb1355e5f870a13f8c22092f45d4d23626d"
  },
  "kernelspec": {
   "display_name": "Python 3.9.13 ('Melkor')",
   "language": "python",
   "name": "python3"
  },
  "language_info": {
   "codemirror_mode": {
    "name": "ipython",
    "version": 3
   },
   "file_extension": ".py",
   "mimetype": "text/x-python",
   "name": "python",
   "nbconvert_exporter": "python",
   "pygments_lexer": "ipython3",
   "version": "3.9.13"
  },
  "orig_nbformat": 4
 },
 "nbformat": 4,
 "nbformat_minor": 2
}
