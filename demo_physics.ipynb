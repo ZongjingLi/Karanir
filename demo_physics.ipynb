{
 "cells": [
  {
   "cell_type": "code",
   "execution_count": 1,
   "metadata": {},
   "outputs": [
    {
     "name": "stdout",
     "output_type": "stream",
     "text": [
      "[Taichi] version 1.7.0, llvm 15.0.7, commit 7b58b0ff, osx, python 3.9.13\n"
     ]
    },
    {
     "name": "stderr",
     "output_type": "stream",
     "text": [
      "[I 12/22/23 10:03:36.462 1649936] [shell.py:_shell_pop_print@23] Graphical python shell detected, using wrapped sys.stdout\n"
     ]
    }
   ],
   "source": [
    "\"\"\"Load the BlockWorld Interactive Environment\"\"\"\n",
    "from karanir.envs.blockworld import *"
   ]
  },
  {
   "cell_type": "code",
   "execution_count": 2,
   "metadata": {},
   "outputs": [],
   "source": [
    "\"\"\"Activate the Demo\"\"\"\n",
    "game = BlockWorldEnv(SCREEN_WIDTH, SCREEN_HEIGHT, SCREEN_TITLE)"
   ]
  },
  {
   "cell_type": "code",
   "execution_count": 3,
   "metadata": {},
   "outputs": [
    {
     "name": "stderr",
     "output_type": "stream",
     "text": [
      "2023-12-22 10:04:13.088 python[88612:1649936] TSM AdjustCapsLockLEDForKeyTransitionHandling - _ISSetPhysicalKeyboardCapsLockLED Inhibit\n",
      "/Users/melkor/miniforge3/envs/Melkor/lib/python3.9/site-packages/numpy/lib/npyio.py:501: VisibleDeprecationWarning: Creating an ndarray from ragged nested sequences (which is a list-or-tuple of lists-or-tuples-or ndarrays with different lengths or shapes) is deprecated. If you meant to do this, you must specify 'dtype=object' when creating the ndarray.\n",
      "  arr = np.asanyarray(arr)\n"
     ]
    }
   ],
   "source": [
    "arcade.run()"
   ]
  },
  {
   "cell_type": "code",
   "execution_count": 3,
   "metadata": {},
   "outputs": [
    {
     "name": "stdout",
     "output_type": "stream",
     "text": [
      "(0,)\n",
      "(5, 4)\n",
      "(2, 5, 5)\n",
      "torch.Size([5, 4])\n",
      "torch.Size([5, 5, 2])\n"
     ]
    }
   ],
   "source": [
    "\"\"\"Load the states by the numpy\"\"\"\n",
    "import torch\n",
    "import numpy as np\n",
    "states = np.load(\"states.npy\", allow_pickle = True)\n",
    "print(states[0][0].shape)\n",
    "print(states[0][1].shape)\n",
    "print(states[0][2].shape)\n",
    "\n",
    "unary = torch.tensor(states[0,1])\n",
    "print(unary.shape)\n",
    "binary = torch.tensor(states[0,2]).permute(1,2,0)\n",
    "print(binary.shape)"
   ]
  }
 ],
 "metadata": {
  "interpreter": {
   "hash": "a47e46093c771f9510c4aabf3710bfb1355e5f870a13f8c22092f45d4d23626d"
  },
  "kernelspec": {
   "display_name": "Python 3.9.13 ('Melkor')",
   "language": "python",
   "name": "python3"
  },
  "language_info": {
   "codemirror_mode": {
    "name": "ipython",
    "version": 3
   },
   "file_extension": ".py",
   "mimetype": "text/x-python",
   "name": "python",
   "nbconvert_exporter": "python",
   "pygments_lexer": "ipython3",
   "version": "3.9.13"
  },
  "orig_nbformat": 4
 },
 "nbformat": 4,
 "nbformat_minor": 2
}
