{
 "cells": [
  {
   "cell_type": "code",
   "execution_count": null,
   "metadata": {},
   "outputs": [],
   "source": []
  },
  {
   "cell_type": "code",
   "execution_count": 37,
   "metadata": {},
   "outputs": [
    {
     "name": "stdout",
     "output_type": "stream",
     "text": [
      "start: instruction+\n",
      "\n",
      "instruction: (\"f\"|\"b\"|\"l\"|\"r\") NUMBER\n",
      "                | \"c\" COLOR [COLOR]\n",
      "                | \"fill\" code_block\n",
      "                | \"repeat\" NUMBER\n",
      "code_block: \"{\" instruction+ \"}\"\n",
      "\n",
      "COLOR: (\"a\"..\"z\")+\n",
      "NUMBER: (\"0\"..\"9\")+ // one or more instructions\n",
      "\n",
      "WHITESPACE: (\" \" | \"\\n\")+\n",
      "%ignore WHITESPACE\n"
     ]
    }
   ],
   "source": [
    "import os\n",
    "path = \"karanir.grammar\"\n",
    "\n",
    "grammar = \"\"\n",
    "with open(path) as grammar_file:\n",
    "    for line in grammar_file:\n",
    "        grammar += line\n",
    "\n",
    "grammar_ = \"\"\"\n",
    "start: instruction+\n",
    "\n",
    "instruction: (\"f\"|\"b\"|\"l\"|\"r\") NUMBER\n",
    "                | \"c\" COLOR [COLOR]\n",
    "                | \"fill\" code_block\n",
    "                | \"repeat\" NUMBER\n",
    "code_block: \"{\" instruction+ \"}\"\n",
    "\n",
    "COLOR: (\"a\"..\"z\")+\n",
    "NUMBER: (\"0\"..\"9\")+ // one or more instructions\n",
    "\n",
    "WHITESPACE: (\" \" | \"\\n\")+\n",
    "%ignore WHITESPACE\n",
    "\"\"\"\n",
    "print(grammar)\n"
   ]
  },
  {
   "cell_type": "code",
   "execution_count": 64,
   "metadata": {},
   "outputs": [
    {
     "ename": "UnexpectedCharacters",
     "evalue": "No terminal matches '(' in the current parser context, at line 4 col 1\n\n(:predicate source)\n^\nExpected one of: \n\t* C\n\t* FILL\n\t* COLOR\n\t* B\n\t* F\n\t* REPEAT\n\t* R\n\t* L\n",
     "output_type": "error",
     "traceback": [
      "\u001b[0;31m---------------------------------------------------------------------------\u001b[0m",
      "\u001b[0;31mUnexpectedCharacters\u001b[0m                      Traceback (most recent call last)",
      "\u001b[1;32m/Users/melkor/Documents/GitHub/Karanir/karanir/thanagor/domain_parse.ipynb Cell 3'\u001b[0m in \u001b[0;36m<cell line: 10>\u001b[0;34m()\u001b[0m\n\u001b[1;32m      <a href='vscode-notebook-cell:/Users/melkor/Documents/GitHub/Karanir/karanir/thanagor/domain_parse.ipynb#ch0000002?line=1'>2</a>\u001b[0m parser \u001b[39m=\u001b[39m Lark(grammar)\n\u001b[1;32m      <a href='vscode-notebook-cell:/Users/melkor/Documents/GitHub/Karanir/karanir/thanagor/domain_parse.ipynb#ch0000002?line=3'>4</a>\u001b[0m text \u001b[39m=\u001b[39m \u001b[39m\"\"\"\u001b[39m\n\u001b[1;32m      <a href='vscode-notebook-cell:/Users/melkor/Documents/GitHub/Karanir/karanir/thanagor/domain_parse.ipynb#ch0000002?line=4'>5</a>\u001b[0m \u001b[39mc red yellow\u001b[39m\n\u001b[1;32m      <a href='vscode-notebook-cell:/Users/melkor/Documents/GitHub/Karanir/karanir/thanagor/domain_parse.ipynb#ch0000002?line=5'>6</a>\u001b[0m \u001b[39mc blue\u001b[39m\n\u001b[1;32m      <a href='vscode-notebook-cell:/Users/melkor/Documents/GitHub/Karanir/karanir/thanagor/domain_parse.ipynb#ch0000002?line=6'>7</a>\u001b[0m \u001b[39m(:predicate source)\u001b[39m\n\u001b[1;32m      <a href='vscode-notebook-cell:/Users/melkor/Documents/GitHub/Karanir/karanir/thanagor/domain_parse.ipynb#ch0000002?line=7'>8</a>\u001b[0m \u001b[39m\"\"\"\u001b[39m\n\u001b[0;32m---> <a href='vscode-notebook-cell:/Users/melkor/Documents/GitHub/Karanir/karanir/thanagor/domain_parse.ipynb#ch0000002?line=9'>10</a>\u001b[0m result \u001b[39m=\u001b[39m parser\u001b[39m.\u001b[39;49mparse(text)\n\u001b[1;32m     <a href='vscode-notebook-cell:/Users/melkor/Documents/GitHub/Karanir/karanir/thanagor/domain_parse.ipynb#ch0000002?line=10'>11</a>\u001b[0m \u001b[39mprint\u001b[39m(result)\n",
      "File \u001b[0;32m~/miniforge3/envs/Melkor/lib/python3.9/site-packages/lark/lark.py:658\u001b[0m, in \u001b[0;36mLark.parse\u001b[0;34m(self, text, start, on_error)\u001b[0m\n\u001b[1;32m    <a href='file:///Users/melkor/miniforge3/envs/Melkor/lib/python3.9/site-packages/lark/lark.py?line=639'>640</a>\u001b[0m \u001b[39mdef\u001b[39;00m \u001b[39mparse\u001b[39m(\u001b[39mself\u001b[39m, text: \u001b[39mstr\u001b[39m, start: Optional[\u001b[39mstr\u001b[39m]\u001b[39m=\u001b[39m\u001b[39mNone\u001b[39;00m, on_error: \u001b[39m'\u001b[39m\u001b[39mOptional[Callable[[UnexpectedInput], bool]]\u001b[39m\u001b[39m'\u001b[39m\u001b[39m=\u001b[39m\u001b[39mNone\u001b[39;00m) \u001b[39m-\u001b[39m\u001b[39m>\u001b[39m \u001b[39m'\u001b[39m\u001b[39mParseTree\u001b[39m\u001b[39m'\u001b[39m:\n\u001b[1;32m    <a href='file:///Users/melkor/miniforge3/envs/Melkor/lib/python3.9/site-packages/lark/lark.py?line=640'>641</a>\u001b[0m \u001b[39m    \u001b[39m\u001b[39m\"\"\"Parse the given text, according to the options provided.\u001b[39;00m\n\u001b[1;32m    <a href='file:///Users/melkor/miniforge3/envs/Melkor/lib/python3.9/site-packages/lark/lark.py?line=641'>642</a>\u001b[0m \n\u001b[1;32m    <a href='file:///Users/melkor/miniforge3/envs/Melkor/lib/python3.9/site-packages/lark/lark.py?line=642'>643</a>\u001b[0m \u001b[39m    Parameters:\u001b[39;00m\n\u001b[0;32m   (...)\u001b[0m\n\u001b[1;32m    <a href='file:///Users/melkor/miniforge3/envs/Melkor/lib/python3.9/site-packages/lark/lark.py?line=655'>656</a>\u001b[0m \n\u001b[1;32m    <a href='file:///Users/melkor/miniforge3/envs/Melkor/lib/python3.9/site-packages/lark/lark.py?line=656'>657</a>\u001b[0m \u001b[39m    \"\"\"\u001b[39;00m\n\u001b[0;32m--> <a href='file:///Users/melkor/miniforge3/envs/Melkor/lib/python3.9/site-packages/lark/lark.py?line=657'>658</a>\u001b[0m     \u001b[39mreturn\u001b[39;00m \u001b[39mself\u001b[39;49m\u001b[39m.\u001b[39;49mparser\u001b[39m.\u001b[39;49mparse(text, start\u001b[39m=\u001b[39;49mstart, on_error\u001b[39m=\u001b[39;49mon_error)\n",
      "File \u001b[0;32m~/miniforge3/envs/Melkor/lib/python3.9/site-packages/lark/parser_frontends.py:104\u001b[0m, in \u001b[0;36mParsingFrontend.parse\u001b[0;34m(self, text, start, on_error)\u001b[0m\n\u001b[1;32m    <a href='file:///Users/melkor/miniforge3/envs/Melkor/lib/python3.9/site-packages/lark/parser_frontends.py?line=101'>102</a>\u001b[0m kw \u001b[39m=\u001b[39m {} \u001b[39mif\u001b[39;00m on_error \u001b[39mis\u001b[39;00m \u001b[39mNone\u001b[39;00m \u001b[39melse\u001b[39;00m {\u001b[39m'\u001b[39m\u001b[39mon_error\u001b[39m\u001b[39m'\u001b[39m: on_error}\n\u001b[1;32m    <a href='file:///Users/melkor/miniforge3/envs/Melkor/lib/python3.9/site-packages/lark/parser_frontends.py?line=102'>103</a>\u001b[0m stream \u001b[39m=\u001b[39m \u001b[39mself\u001b[39m\u001b[39m.\u001b[39m_make_lexer_thread(text)\n\u001b[0;32m--> <a href='file:///Users/melkor/miniforge3/envs/Melkor/lib/python3.9/site-packages/lark/parser_frontends.py?line=103'>104</a>\u001b[0m \u001b[39mreturn\u001b[39;00m \u001b[39mself\u001b[39;49m\u001b[39m.\u001b[39;49mparser\u001b[39m.\u001b[39;49mparse(stream, chosen_start, \u001b[39m*\u001b[39;49m\u001b[39m*\u001b[39;49mkw)\n",
      "File \u001b[0;32m~/miniforge3/envs/Melkor/lib/python3.9/site-packages/lark/parsers/earley.py:279\u001b[0m, in \u001b[0;36mParser.parse\u001b[0;34m(self, lexer, start)\u001b[0m\n\u001b[1;32m    <a href='file:///Users/melkor/miniforge3/envs/Melkor/lib/python3.9/site-packages/lark/parsers/earley.py?line=275'>276</a>\u001b[0m     \u001b[39melse\u001b[39;00m:\n\u001b[1;32m    <a href='file:///Users/melkor/miniforge3/envs/Melkor/lib/python3.9/site-packages/lark/parsers/earley.py?line=276'>277</a>\u001b[0m         columns[\u001b[39m0\u001b[39m]\u001b[39m.\u001b[39madd(item)\n\u001b[0;32m--> <a href='file:///Users/melkor/miniforge3/envs/Melkor/lib/python3.9/site-packages/lark/parsers/earley.py?line=278'>279</a>\u001b[0m to_scan \u001b[39m=\u001b[39m \u001b[39mself\u001b[39;49m\u001b[39m.\u001b[39;49m_parse(lexer, columns, to_scan, start_symbol)\n\u001b[1;32m    <a href='file:///Users/melkor/miniforge3/envs/Melkor/lib/python3.9/site-packages/lark/parsers/earley.py?line=280'>281</a>\u001b[0m \u001b[39m# If the parse was successful, the start\u001b[39;00m\n\u001b[1;32m    <a href='file:///Users/melkor/miniforge3/envs/Melkor/lib/python3.9/site-packages/lark/parsers/earley.py?line=281'>282</a>\u001b[0m \u001b[39m# symbol should have been completed in the last step of the Earley cycle, and will be in\u001b[39;00m\n\u001b[1;32m    <a href='file:///Users/melkor/miniforge3/envs/Melkor/lib/python3.9/site-packages/lark/parsers/earley.py?line=282'>283</a>\u001b[0m \u001b[39m# this column. Find the item for the start_symbol, which is the root of the SPPF tree.\u001b[39;00m\n\u001b[1;32m    <a href='file:///Users/melkor/miniforge3/envs/Melkor/lib/python3.9/site-packages/lark/parsers/earley.py?line=283'>284</a>\u001b[0m solutions \u001b[39m=\u001b[39m [n\u001b[39m.\u001b[39mnode \u001b[39mfor\u001b[39;00m n \u001b[39min\u001b[39;00m columns[\u001b[39m-\u001b[39m\u001b[39m1\u001b[39m] \u001b[39mif\u001b[39;00m n\u001b[39m.\u001b[39mis_complete \u001b[39mand\u001b[39;00m n\u001b[39m.\u001b[39mnode \u001b[39mis\u001b[39;00m \u001b[39mnot\u001b[39;00m \u001b[39mNone\u001b[39;00m \u001b[39mand\u001b[39;00m n\u001b[39m.\u001b[39ms \u001b[39m==\u001b[39m start_symbol \u001b[39mand\u001b[39;00m n\u001b[39m.\u001b[39mstart \u001b[39m==\u001b[39m \u001b[39m0\u001b[39m]\n",
      "File \u001b[0;32m~/miniforge3/envs/Melkor/lib/python3.9/site-packages/lark/parsers/xearley.py:152\u001b[0m, in \u001b[0;36mParser._parse\u001b[0;34m(self, stream, columns, to_scan, start_symbol)\u001b[0m\n\u001b[1;32m    <a href='file:///Users/melkor/miniforge3/envs/Melkor/lib/python3.9/site-packages/lark/parsers/xearley.py?line=148'>149</a>\u001b[0m \u001b[39mfor\u001b[39;00m token \u001b[39min\u001b[39;00m stream:\n\u001b[1;32m    <a href='file:///Users/melkor/miniforge3/envs/Melkor/lib/python3.9/site-packages/lark/parsers/xearley.py?line=149'>150</a>\u001b[0m     \u001b[39mself\u001b[39m\u001b[39m.\u001b[39mpredict_and_complete(i, to_scan, columns, transitives)\n\u001b[0;32m--> <a href='file:///Users/melkor/miniforge3/envs/Melkor/lib/python3.9/site-packages/lark/parsers/xearley.py?line=151'>152</a>\u001b[0m     to_scan \u001b[39m=\u001b[39m scan(i, to_scan)\n\u001b[1;32m    <a href='file:///Users/melkor/miniforge3/envs/Melkor/lib/python3.9/site-packages/lark/parsers/xearley.py?line=153'>154</a>\u001b[0m     \u001b[39mif\u001b[39;00m token \u001b[39m==\u001b[39m \u001b[39m'\u001b[39m\u001b[39m\\n\u001b[39;00m\u001b[39m'\u001b[39m:\n\u001b[1;32m    <a href='file:///Users/melkor/miniforge3/envs/Melkor/lib/python3.9/site-packages/lark/parsers/xearley.py?line=154'>155</a>\u001b[0m         text_line \u001b[39m+\u001b[39m\u001b[39m=\u001b[39m \u001b[39m1\u001b[39m\n",
      "File \u001b[0;32m~/miniforge3/envs/Melkor/lib/python3.9/site-packages/lark/parsers/xearley.py:125\u001b[0m, in \u001b[0;36mParser._parse.<locals>.scan\u001b[0;34m(i, to_scan)\u001b[0m\n\u001b[1;32m    <a href='file:///Users/melkor/miniforge3/envs/Melkor/lib/python3.9/site-packages/lark/parsers/xearley.py?line=122'>123</a>\u001b[0m \u001b[39mif\u001b[39;00m \u001b[39mnot\u001b[39;00m next_set \u001b[39mand\u001b[39;00m \u001b[39mnot\u001b[39;00m delayed_matches \u001b[39mand\u001b[39;00m \u001b[39mnot\u001b[39;00m next_to_scan:\n\u001b[1;32m    <a href='file:///Users/melkor/miniforge3/envs/Melkor/lib/python3.9/site-packages/lark/parsers/xearley.py?line=123'>124</a>\u001b[0m     considered_rules \u001b[39m=\u001b[39m \u001b[39mlist\u001b[39m(\u001b[39msorted\u001b[39m(to_scan, key\u001b[39m=\u001b[39m\u001b[39mlambda\u001b[39;00m key: key\u001b[39m.\u001b[39mrule\u001b[39m.\u001b[39morigin\u001b[39m.\u001b[39mname))\n\u001b[0;32m--> <a href='file:///Users/melkor/miniforge3/envs/Melkor/lib/python3.9/site-packages/lark/parsers/xearley.py?line=124'>125</a>\u001b[0m     \u001b[39mraise\u001b[39;00m UnexpectedCharacters(stream, i, text_line, text_column, {item\u001b[39m.\u001b[39mexpect\u001b[39m.\u001b[39mname \u001b[39mfor\u001b[39;00m item \u001b[39min\u001b[39;00m to_scan},\n\u001b[1;32m    <a href='file:///Users/melkor/miniforge3/envs/Melkor/lib/python3.9/site-packages/lark/parsers/xearley.py?line=125'>126</a>\u001b[0m                                \u001b[39mset\u001b[39m(to_scan), state\u001b[39m=\u001b[39m\u001b[39mfrozenset\u001b[39m(i\u001b[39m.\u001b[39ms \u001b[39mfor\u001b[39;00m i \u001b[39min\u001b[39;00m to_scan),\n\u001b[1;32m    <a href='file:///Users/melkor/miniforge3/envs/Melkor/lib/python3.9/site-packages/lark/parsers/xearley.py?line=126'>127</a>\u001b[0m                                considered_rules\u001b[39m=\u001b[39mconsidered_rules\n\u001b[1;32m    <a href='file:///Users/melkor/miniforge3/envs/Melkor/lib/python3.9/site-packages/lark/parsers/xearley.py?line=127'>128</a>\u001b[0m                                )\n\u001b[1;32m    <a href='file:///Users/melkor/miniforge3/envs/Melkor/lib/python3.9/site-packages/lark/parsers/xearley.py?line=129'>130</a>\u001b[0m \u001b[39mreturn\u001b[39;00m next_to_scan\n",
      "\u001b[0;31mUnexpectedCharacters\u001b[0m: No terminal matches '(' in the current parser context, at line 4 col 1\n\n(:predicate source)\n^\nExpected one of: \n\t* C\n\t* FILL\n\t* COLOR\n\t* B\n\t* F\n\t* REPEAT\n\t* R\n\t* L\n"
     ]
    }
   ],
   "source": [
    "from lark import Lark\n",
    "parser = Lark(grammar)\n",
    "\n",
    "text = \"\"\"\n",
    "c red yellow\n",
    "c blue\n",
    "(:predicate source)\n",
    "\"\"\"\n",
    "\n",
    "result = parser.parse(text)\n",
    "print(result)"
   ]
  }
 ],
 "metadata": {
  "interpreter": {
   "hash": "a47e46093c771f9510c4aabf3710bfb1355e5f870a13f8c22092f45d4d23626d"
  },
  "kernelspec": {
   "display_name": "Python 3.9.13 ('Melkor')",
   "language": "python",
   "name": "python3"
  },
  "language_info": {
   "codemirror_mode": {
    "name": "ipython",
    "version": 3
   },
   "file_extension": ".py",
   "mimetype": "text/x-python",
   "name": "python",
   "nbconvert_exporter": "python",
   "pygments_lexer": "ipython3",
   "version": "3.9.13"
  },
  "orig_nbformat": 4
 },
 "nbformat": 4,
 "nbformat_minor": 2
}
